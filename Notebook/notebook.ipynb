{
 "cells": [
  {
   "cell_type": "markdown",
   "metadata": {},
   "source": [
    "# Python para Data Science"
   ]
  },
  {
   "cell_type": "markdown",
   "metadata": {},
   "source": [
    "## <font color=blue>**01. Bibliotecas**</font>"
   ]
  },
  {
   "cell_type": "markdown",
   "metadata": {},
   "source": [
    " ### 01.01 Importando bibliotecas"
   ]
  },
  {
   "cell_type": "code",
   "execution_count": null,
   "metadata": {},
   "outputs": [],
   "source": [
    "!pip install matplotlib"
   ]
  },
  {
   "cell_type": "markdown",
   "metadata": {},
   "source": [
    "**Bibliotecas do python**\n",
    "\n",
    "As bibliotecas do Python são, basicamente, um conjunto de módulos e funções úteis para a pessoa usuária. Esses módulos e funções desempenham tarefas segundo as nossas necessidades, sem que seja necessário trazer todos os pacotes e dados para o projeto.\n",
    "\n",
    "Para conseguir utilizar uma biblioteca, precisamos instalá-la - caso ela não esteja no ambiente - atualizá-la ou importá-la no nosso projeto.\n",
    "\n",
    "Para instalar uma biblioteca ou atualizá-la, podemos utilizar o pip, um gerenciador de bibliotecas do Python.\n",
    "\n",
    "O trabalho do pip é semelhante ao de um bibliotecário. Enquanto o bibliotecário cataloga e organiza os documentos e livros em um acervo, o pip organiza as bibliotecas e pacotes dentro do Python."
   ]
  },
  {
   "cell_type": "markdown",
   "metadata": {},
   "source": [
    "**Instalando a biblioteca matplotlib pelo pip**\n",
    "\n",
    "pip install, sendo install palavra-chave para instalação. Em seguida, indicaremos qual biblioteca vamos instalar. Nós escolheremos a matplotlib, biblioteca usada para visualização de dados."
   ]
  },
  {
   "cell_type": "markdown",
   "metadata": {},
   "source": [
    " Insstalando uma biblioteca \n",
    " \n",
    " pip install matplotlib"
   ]
  },
  {
   "cell_type": "code",
   "execution_count": 10,
   "metadata": {},
   "outputs": [
    {
     "name": "stdout",
     "output_type": "stream",
     "text": [
      "Requirement already satisfied: matplotlib in /home/joaovitor/Documentos5/dados/pipelines_dados/venv/lib/python3.10/site-packages (3.6.2)\n",
      "Requirement already satisfied: cycler>=0.10 in /home/joaovitor/Documentos5/dados/pipelines_dados/venv/lib/python3.10/site-packages (from matplotlib) (0.12.1)\n",
      "Requirement already satisfied: fonttools>=4.22.0 in /home/joaovitor/Documentos5/dados/pipelines_dados/venv/lib/python3.10/site-packages (from matplotlib) (4.53.1)\n",
      "Requirement already satisfied: python-dateutil>=2.7 in /home/joaovitor/Documentos5/dados/pipelines_dados/venv/lib/python3.10/site-packages (from matplotlib) (2.9.0.post0)\n",
      "Requirement already satisfied: pyparsing>=2.2.1 in /home/joaovitor/Documentos5/dados/pipelines_dados/venv/lib/python3.10/site-packages (from matplotlib) (3.1.2)\n",
      "Requirement already satisfied: numpy>=1.19 in /home/joaovitor/Documentos5/dados/pipelines_dados/venv/lib/python3.10/site-packages (from matplotlib) (1.26.4)\n",
      "Requirement already satisfied: contourpy>=1.0.1 in /home/joaovitor/Documentos5/dados/pipelines_dados/venv/lib/python3.10/site-packages (from matplotlib) (1.2.1)\n",
      "Requirement already satisfied: pillow>=6.2.0 in /home/joaovitor/Documentos5/dados/pipelines_dados/venv/lib/python3.10/site-packages (from matplotlib) (10.4.0)\n",
      "Requirement already satisfied: packaging>=20.0 in /home/joaovitor/Documentos5/dados/pipelines_dados/venv/lib/python3.10/site-packages (from matplotlib) (24.1)\n",
      "Requirement already satisfied: kiwisolver>=1.0.1 in /home/joaovitor/Documentos5/dados/pipelines_dados/venv/lib/python3.10/site-packages (from matplotlib) (1.4.5)\n",
      "Requirement already satisfied: six>=1.5 in /home/joaovitor/Documentos5/dados/pipelines_dados/venv/lib/python3.10/site-packages (from python-dateutil>=2.7->matplotlib) (1.16.0)\n"
     ]
    }
   ],
   "source": [
    " !pip install matplotlib\n",
    "\n",
    "# ! = indica que a célula de código não é comum, como as utilizadas para linguagem ou em operações, mas, sim, uma célula que usaremos no prompt de comando para instalar ou atualizar bibliotecas."
   ]
  },
  {
   "cell_type": "markdown",
   "metadata": {},
   "source": [
    "**Instalando uma versão específica do matplotlib**\n",
    "\n",
    "A instalação é bem simples. Vamos começar passando !pip install matplotlib. Para instalar a versão acima, adicionaremos o operador ==, que navegará no Python e escolherá a versão 3.6.2. Lembrando que não é necessário passar a versão entre aspas."
   ]
  },
  {
   "cell_type": "markdown",
   "metadata": {},
   "source": [
    "A instalação de uma versão específica da biblioteca pode decorrer da necessidade do uso de recursos específicos para determinados projetos ou tarefas a serem executadas.\n",
    "\n",
    "!pip install pandas==1.5.0\n",
    "\n",
    "Algumas versões de uma biblioteca podem ter recursos que são necessários para determinado projeto ou tarefa. Por exemplo, a versão 1.5.0 do Pandas pode ter um recurso específico que não está disponível em versões mais recentes ou mais antigas.\n",
    "\n"
   ]
  },
  {
   "cell_type": "markdown",
   "metadata": {},
   "source": [
    "**Importar a biblioteca**\n",
    "\n",
    "import seguido do nome desta biblioteca, matplotlib."
   ]
  },
  {
   "cell_type": "code",
   "execution_count": 9,
   "metadata": {},
   "outputs": [
    {
     "name": "stdout",
     "output_type": "stream",
     "text": [
      "Requirement already satisfied: matplotlib==3.6.2 in /home/joaovitor/Documentos5/dados/pipelines_dados/venv/lib/python3.10/site-packages (3.6.2)\n",
      "Requirement already satisfied: kiwisolver>=1.0.1 in /home/joaovitor/Documentos5/dados/pipelines_dados/venv/lib/python3.10/site-packages (from matplotlib==3.6.2) (1.4.5)\n",
      "Requirement already satisfied: fonttools>=4.22.0 in /home/joaovitor/Documentos5/dados/pipelines_dados/venv/lib/python3.10/site-packages (from matplotlib==3.6.2) (4.53.1)\n",
      "Requirement already satisfied: pyparsing>=2.2.1 in /home/joaovitor/Documentos5/dados/pipelines_dados/venv/lib/python3.10/site-packages (from matplotlib==3.6.2) (3.1.2)\n",
      "Requirement already satisfied: pillow>=6.2.0 in /home/joaovitor/Documentos5/dados/pipelines_dados/venv/lib/python3.10/site-packages (from matplotlib==3.6.2) (10.4.0)\n",
      "Requirement already satisfied: python-dateutil>=2.7 in /home/joaovitor/Documentos5/dados/pipelines_dados/venv/lib/python3.10/site-packages (from matplotlib==3.6.2) (2.9.0.post0)\n",
      "Requirement already satisfied: packaging>=20.0 in /home/joaovitor/Documentos5/dados/pipelines_dados/venv/lib/python3.10/site-packages (from matplotlib==3.6.2) (24.1)\n",
      "Requirement already satisfied: numpy>=1.19 in /home/joaovitor/Documentos5/dados/pipelines_dados/venv/lib/python3.10/site-packages (from matplotlib==3.6.2) (1.26.4)\n",
      "Requirement already satisfied: cycler>=0.10 in /home/joaovitor/Documentos5/dados/pipelines_dados/venv/lib/python3.10/site-packages (from matplotlib==3.6.2) (0.12.1)\n",
      "Requirement already satisfied: contourpy>=1.0.1 in /home/joaovitor/Documentos5/dados/pipelines_dados/venv/lib/python3.10/site-packages (from matplotlib==3.6.2) (1.2.1)\n",
      "Requirement already satisfied: six>=1.5 in /home/joaovitor/Documentos5/dados/pipelines_dados/venv/lib/python3.10/site-packages (from python-dateutil>=2.7->matplotlib==3.6.2) (1.16.0)\n"
     ]
    }
   ],
   "source": [
    "!pip install matplotlib==3.6.2"
   ]
  },
  {
   "cell_type": "markdown",
   "metadata": {},
   "source": [
    "**Para importar a biblioteca**\n",
    "\n",
    "Para importar a biblioteca, usaremos import seguido do nome desta biblioteca, matplotlib.\n",
    "\n",
    "Importando uma biblioteca sem alias\n"
   ]
  },
  {
   "cell_type": "markdown",
   "metadata": {},
   "source": [
    "**Importando uma biblioteca com alias**"
   ]
  },
  {
   "cell_type": "code",
   "execution_count": 11,
   "metadata": {},
   "outputs": [],
   "source": [
    "import matplotlib.pyplot as plt\n",
    "# A função do plt é reduzir a quantidade de caracteres que utilizaremos no nosso código."
   ]
  },
  {
   "cell_type": "code",
   "execution_count": 14,
   "metadata": {},
   "outputs": [],
   "source": [
    "plt.show()\n",
    "\n",
    "# .show(), um objeto que serve para mostrar na tela apenas a imagem produzida"
   ]
  },
  {
   "cell_type": "markdown",
   "metadata": {},
   "source": [
    "**Dunder methods:** métodos mágicos ou dunder methods são parâmetros com dois underlines seguidos: __. Basicamente, trazem alguns métodos extraordinários, que podem ser aplicados em vários tipos de módulos, classes e objetos e respondem a um tipo específcio de tarefa.\n",
    "\n",
    "É importante saber a versão de biblioteca estamos trabalhando, seja ela a matplotlib ou outra biblioteca, inclusive para conferir se precisamos atulizar ou não essa versão e entender os requisitos para trabalhar com o projeto."
   ]
  },
  {
   "cell_type": "markdown",
   "metadata": {},
   "source": [
    "### 01.02 PIP e PyPI"
   ]
  },
  {
   "cell_type": "markdown",
   "metadata": {},
   "source": [
    "O PIP é um gerenciador de bibliotecas para Python. Nele temos acesso às bibliotecas já instaladas em nossa aplicação junto a versão de cada uma delas. A partir das linhas de comando, podemos instalar, atualizar e remover pacotes Python. Com o pip, podemos facilmente instalar pacotes de terceiros em projetos Python.\n",
    "\n",
    "Para conseguirmos acessar todos os pacotes instalados em nosso Jupyter Notebook, no Colab, podemos escrever o seguinte código:"
   ]
  },
  {
   "cell_type": "code",
   "execution_count": null,
   "metadata": {},
   "outputs": [],
   "source": [
    "# Imprimindo todos os pacotes instalados no ambiente e suas versões\n",
    "!pip list"
   ]
  },
  {
   "cell_type": "markdown",
   "metadata": {},
   "source": [
    "O pip funciona conectando-se ao [Python Package Index (pypi)](https://pypi.org/) que é o maior repositório centralizado para pacotes Python com milhares de bibliotecas disponíveis para instalação. Podemos pesquisar no PyPI para encontrar pacotes que atendam às necessidades e, em seguida, usar o pip para instalá-los em nossos projetos.\n",
    "\n",
    "O PyPI é mantido pela [Python Software Foundation](https://www.python.org/psf-landing) e contém uma ampla variedade de pacotes Python. Nele são publicados pacotes Python para que outras pessoas desenvolvedoras possam usá-los. Logo, o pip e o PyPI são duas ferramentas importantes em Python."
   ]
  },
  {
   "cell_type": "markdown",
   "metadata": {},
   "source": [
    "### 01.03 Utilizando pacotes/bibliotecas"
   ]
  },
  {
   "cell_type": "markdown",
   "metadata": {},
   "source": [
    "<font color=yellow>**lembrete:**</font> É importante sempre consultar a [Documentação do Python](https://docs.python.org/pt-br/3/), estudar e entender seus métodos para utilizá-los da melhor forma no projeto!"
   ]
  },
  {
   "cell_type": "markdown",
   "metadata": {},
   "source": [
    "<font color=purple>**Exemplo**</font> Usarei o matplotlib.pyplot para encontrar a média de estudantes de uma classe e vizualizar em gráficos de barras mostrando a métrica."
   ]
  },
  {
   "cell_type": "code",
   "execution_count": 15,
   "metadata": {},
   "outputs": [],
   "source": [
    "import matplotlib.pyplot as plt"
   ]
  },
  {
   "cell_type": "code",
   "execution_count": 16,
   "metadata": {},
   "outputs": [],
   "source": [
    "estudantes = [\"João\", \"Maria\", \"José\"]\n",
    "notas = [8.5, 9, 6.5]"
   ]
  },
  {
   "cell_type": "code",
   "execution_count": 17,
   "metadata": {},
   "outputs": [
    {
     "data": {
      "text/plain": [
       "<BarContainer object of 3 artists>"
      ]
     },
     "execution_count": 17,
     "metadata": {},
     "output_type": "execute_result"
    },
    {
     "data": {
      "image/png": "[encoded data removed]",
      "text/plain": [
       "<Figure size 640x480 with 1 Axes>"
      ]
     },
     "metadata": {},
     "output_type": "display_data"
    }
   ],
   "source": [
    "plt.bar(x = estudantes, height = notas)"
   ]
  },
  {
   "cell_type": "markdown",
   "metadata": {},
   "source": [
    "<font color=purple>**Exemplo usando a biblioteca random:**</font> Selecionarei aleatoriamente um(a) estudante para apresentar seu trabalho de ciências de dados."
   ]
  },
  {
   "cell_type": "markdown",
   "metadata": {},
   "source": [
    "<font color=yellow>**Lembrete:**</font> A biblioteca random é responsável por gerar números e sequências aleatórias.\n",
    "\n",
    "[Documentação da biblioteca random](https://docs.python.org/pt-br/3/library/random.html)"
   ]
  },
  {
   "cell_type": "code",
   "execution_count": 18,
   "metadata": {},
   "outputs": [],
   "source": [
    "estudantes_2 = [\"João\", \"Maria\", \"José\", \"Ana\"]"
   ]
  },
  {
   "cell_type": "markdown",
   "metadata": {},
   "source": [
    "importar uma função específica de uma biblioteca:"
   ]
  },
  {
   "cell_type": "code",
   "execution_count": 21,
   "metadata": {},
   "outputs": [],
   "source": [
    "# Importando uma função específica de uma biblioteca\n",
    "from random import choice\n",
    "# Escolhi o método choice pois ele faz uma escolha"
   ]
  },
  {
   "cell_type": "code",
   "execution_count": 22,
   "metadata": {},
   "outputs": [
    {
     "data": {
      "text/plain": [
       "'Maria'"
      ]
     },
     "execution_count": 22,
     "metadata": {},
     "output_type": "execute_result"
    }
   ],
   "source": [
    "estudante = choice(estudantes_2)\n",
    "estudante"
   ]
  },
  {
   "cell_type": "code",
   "execution_count": 23,
   "metadata": {},
   "outputs": [
    {
     "data": {
      "text/plain": [
       "'José'"
      ]
     },
     "execution_count": 23,
     "metadata": {},
     "output_type": "execute_result"
    }
   ],
   "source": [
    "estudante = choice(estudantes_2)\n",
    "estudante"
   ]
  },
  {
   "cell_type": "markdown",
   "metadata": {},
   "source": [
    "### 01.04 Outras formas de importação "
   ]
  },
  {
   "cell_type": "markdown",
   "metadata": {},
   "source": [
    "Já trabalhamos com duas formas de importação de pacotes: o import nome_biblioteca para todo o pacote; e o from nome_biblioteca import metodo para apenas um método de uma dada biblioteca.\n",
    "\n",
    "A importação de métodos específicos de uma biblioteca pode trazer algumas vantagens para o nosso projeto, como:\n",
    "\n",
    "Maior clareza no código: importar apenas os métodos que vamos usar torna o código mais claro e fácil de entender.\n",
    "Redução de conflitos de nome: quando importamos uma biblioteca inteira, podemos acabar tendo conflitos de nome com outras variáveis ou funções em nosso código.\n",
    "Além das formas vistas anteriormente, podemos citar mais dois exemplos que podemos encontrar ao longo de suas práticas e estudos da linguagem Python:\n",
    "\n",
    "from nome_biblioteca import met_1, met_2\n",
    "\n",
    "Este código resulta na importação de 2 ou mais métodos de uma biblioteca, não necessitando repetir a importação desta a cada método desejado. Podemos, por exemplo, importar 2 métodos da biblioteca random para colher uma amostra de 5 valores de uma lista de 20 valores gerada aleatoriamente com números de 0 a 99.\n"
   ]
  },
  {
   "cell_type": "code",
   "execution_count": 24,
   "metadata": {},
   "outputs": [
    {
     "data": {
      "text/plain": [
       "[19, 73, 47, 72, 12]"
      ]
     },
     "execution_count": 24,
     "metadata": {},
     "output_type": "execute_result"
    }
   ],
   "source": [
    "from random import randrange, sample\n",
    "\n",
    "lista = []\n",
    "\n",
    "for i in range(0, 20):\n",
    "  lista.append(randrange(100))\n",
    "\n",
    "sample(lista, 5)"
   ]
  },
  {
   "cell_type": "markdown",
   "metadata": {},
   "source": [
    "from nome_biblioteca import *\n",
    "Esta forma é utilizada para importar todos os métodos de uma dada biblioteca. A diferença desta para o import nome_biblioteca é que, neste caso, não precisamos usar o nome da biblioteca para chamar um método. Podemos passar apenas o nome dele. Por exemplo, se formos calcular a raiz quadrada de certo número poderíamos seguir por uma das duas formas:\n",
    "\n",
    "Usando import nome_biblioteca"
   ]
  },
  {
   "cell_type": "code",
   "execution_count": null,
   "metadata": {},
   "outputs": [],
   "source": [
    "import math\n",
    "\n",
    "n = int(input(\"Digite um número positivo para calcular sua raiz quadrada:\"))\n",
    "print(f\"\\nA raiz quadrada de {n} é igual a {math.sqrt(n)}\")"
   ]
  },
  {
   "cell_type": "markdown",
   "metadata": {},
   "source": [
    "Usando from nome_biblioteca import *"
   ]
  },
  {
   "cell_type": "code",
   "execution_count": null,
   "metadata": {},
   "outputs": [],
   "source": [
    "from math import *\n",
    "\n",
    "n = int(input(\"Digite um número positivo para calcular sua raiz quadrada:\"))\n",
    "print(f\"\\nA raiz quadrada de {n} é igual a {sqrt(n)}\")"
   ]
  },
  {
   "cell_type": "markdown",
   "metadata": {},
   "source": [
    "Note que, no segundo exemplo, suprimimos o nome math utilizando o método desejado e escrevendo o código com menos caracteres."
   ]
  },
  {
   "cell_type": "markdown",
   "metadata": {},
   "source": [
    "<font color=red>Atenção:</font> A importação nesse sentido precisa de alguns cuidados:\n",
    "\n",
    "- Podemos ter choque de nomes entre as variáveis. Por exemplo: no caso de termos uma função chamada sqrt antes de importar a da biblioteca math.\n",
    "- Não fica explícito de onde aquela variável, método ou classe veio."
   ]
  },
  {
   "cell_type": "markdown",
   "metadata": {},
   "source": [
    "#### 01.04.01 Usando o método ceil"
   ]
  },
  {
   "cell_type": "markdown",
   "metadata": {},
   "source": [
    "<font color=purple>**Exemplo**</font> Uma empresa quer calcular o número de itens vendidos a partir da receita da venda e do valor da unidade do produto. Além disso, precisa arredondar para cima o número de itens vendidos, caso o valor não seja um número inteiro.\n",
    "Suponha que a receita foi de 1000 reais e a unidade do produto é vendida a 15 reais. Realizarei o arredondamento."
   ]
  },
  {
   "cell_type": "code",
   "execution_count": 25,
   "metadata": {},
   "outputs": [
    {
     "name": "stdout",
     "output_type": "stream",
     "text": [
      " A empresa vendeu aproximadamente 67 unidades\n"
     ]
    }
   ],
   "source": [
    "from math import ceil\n",
    "\n",
    "receita = 1000\n",
    "unidade = 15\n",
    "\n",
    "print(f\" A empresa vendeu aproximadamente {ceil(receita/unidade)} unidades\")"
   ]
  },
  {
   "cell_type": "markdown",
   "metadata": {},
   "source": [
    " Como eu importei apenas um método específico da biblioteca math, para utilizar o ceil escrevi ele sem necessitar da referência da biblioteca da qual ele veio."
   ]
  },
  {
   "cell_type": "markdown",
   "metadata": {},
   "source": [
    "## <font color=blue>**02. Funções**</font>"
   ]
  },
  {
   "cell_type": "markdown",
   "metadata": {},
   "source": [
    "### 02.01 Built-in function"
   ]
  },
  {
   "cell_type": "markdown",
   "metadata": {},
   "source": [
    "Funções são sequências de instruções em que aplicamos uma tarefa que pode ser reproduzida ao longo do nosso código, seja no momento em que criamos a função ou mais adiante. Elas podem ser reutilizadas em diferentes partes do código, recebem parâmetros de entrada (inputs) e podem retornar valores.\n",
    "\n",
    "As _BUILT-IN FUNCTIONS, funções embutidas, que podem ser invocadas a qualquer momento no Python. Elas existem de maneira nativa e provavelmente você conhece algumas, como print(), type() ou list()."
   ]
  },
  {
   "cell_type": "markdown",
   "metadata": {},
   "source": [
    "<font color=purple>**Exemplo++</font> A escola em que estou construindo o  case de dados compartilhou os dados das notas de um estudante para que eu pudesse calcular a média deste em até uma casa decimal. Os dados recebidos correspondem a um dicionário com as chaves indicando o trimestre em questão e os valores das notas de cada trimestre do estudante em uma dada matéria."
   ]
  },
  {
   "cell_type": "code",
   "execution_count": 26,
   "metadata": {},
   "outputs": [
    {
     "data": {
      "text/plain": [
       "{'19 Trimestre': 8.5, '2° Trimestre': 9.5, '3º trimestre': 7}"
      ]
     },
     "execution_count": 26,
     "metadata": {},
     "output_type": "execute_result"
    }
   ],
   "source": [
    "#Notas do(a) estudante\n",
    "notas = {'19 Trimestre': 8.5, '2° Trimestre': 9.5, '3º trimestre': 7}\n",
    "notas"
   ]
  },
  {
   "cell_type": "markdown",
   "metadata": {},
   "source": [
    "<font color=yellow>**Lembrete:**</font> Para calcular uma média aritmética simples, precisamos somar as notas e dividir pela quantidade de valores"
   ]
  },
  {
   "cell_type": "code",
   "execution_count": 27,
   "metadata": {},
   "outputs": [
    {
     "data": {
      "text/plain": [
       "25.0"
      ]
     },
     "execution_count": 27,
     "metadata": {},
     "output_type": "execute_result"
    }
   ],
   "source": [
    "# Calculando a soma\n",
    "soma = 0\n",
    "\n",
    "for nota in notas.values():\n",
    "    soma += nota\n",
    "\n",
    "soma\n",
    "\n",
    "# O for foi usado para  que cada nota seja lida e somada à anterior. Assim, a primeira nota será lida e retornada; a segunda será lida e somada à anterior; e a terceira, será lida e somada à soma das duas anteriores.\n",
    "# .values() Foi usado para trasformar os valores em uma lista iterável"
   ]
  },
  {
   "cell_type": "markdown",
   "metadata": {},
   "source": [
    "Mas também dá para usar as _BUILT-IN FUNCTIONS:"
   ]
  },
  {
   "cell_type": "code",
   "execution_count": 28,
   "metadata": {},
   "outputs": [
    {
     "data": {
      "text/plain": [
       "25.0"
      ]
     },
     "execution_count": 28,
     "metadata": {},
     "output_type": "execute_result"
    }
   ],
   "source": [
    "# Usando a função embutida sum()\n",
    "somatorio = sum(notas.values())\n",
    "\n",
    "somatorio"
   ]
  },
  {
   "cell_type": "markdown",
   "metadata": {},
   "source": [
    "<font color=red>**as _BUILT-IN FUNCTIONS funcionam para operações simples e comuns.**</font>"
   ]
  },
  {
   "cell_type": "code",
   "execution_count": 29,
   "metadata": {},
   "outputs": [
    {
     "data": {
      "text/plain": [
       "3"
      ]
     },
     "execution_count": 29,
     "metadata": {},
     "output_type": "execute_result"
    }
   ],
   "source": [
    "# pegar o tamanho da lista\n",
    "# Usando a função embutida len()\n",
    "qtd_notas = len(notas)\n",
    "\n",
    "qtd_notas"
   ]
  },
  {
   "cell_type": "code",
   "execution_count": 30,
   "metadata": {},
   "outputs": [
    {
     "data": {
      "text/plain": [
       "8.333333333333334"
      ]
     },
     "execution_count": 30,
     "metadata": {},
     "output_type": "execute_result"
    }
   ],
   "source": [
    "# Calculando a média\n",
    "media = somatorio / qtd_notas\n",
    "\n",
    "media"
   ]
  },
  {
   "cell_type": "markdown",
   "metadata": {},
   "source": [
    "Precisamos arredondar:\n"
   ]
  },
  {
   "cell_type": "code",
   "execution_count": 34,
   "metadata": {},
   "outputs": [
    {
     "name": "stdout",
     "output_type": "stream",
     "text": [
      "Help on built-in function round in module builtins:\n",
      "\n",
      "round(number, ndigits=None)\n",
      "    Round a number to a given precision in decimal digits.\n",
      "    \n",
      "    The return value is an integer if ndigits is omitted or None.  Otherwise\n",
      "    the return value has the same type as the number.  ndigits may be negative.\n",
      "\n"
     ]
    }
   ],
   "source": [
    "help(round)\n",
    "#ele recebe dois parâmetros: o número que queremos arredondar e o número de dígitos que queremos arredondar."
   ]
  },
  {
   "cell_type": "code",
   "execution_count": 35,
   "metadata": {},
   "outputs": [
    {
     "data": {
      "text/plain": [
       "8.3"
      ]
     },
     "execution_count": 35,
     "metadata": {},
     "output_type": "execute_result"
    }
   ],
   "source": [
    "# Cálculo da média = Arredondamento\n",
    "media = somatorio / qtd_notas\n",
    "media = round(media,1)\n",
    "media"
   ]
  },
  {
   "cell_type": "markdown",
   "metadata": {},
   "source": [
    "As built-in functions são funções integradas ao Python que já estão disponíveis e não possuem a necessidade de importação, o que torna sua utilização muito mais fácil e eficiente."
   ]
  },
  {
   "cell_type": "markdown",
   "metadata": {},
   "source": [
    "### 02.02 Criando funções"
   ]
  },
  {
   "cell_type": "markdown",
   "metadata": {},
   "source": [
    "Quando as BUILT-IN FUNCTIONS não são suficientes, precisamos criar nossas próprias funções, que podem ser utilizadas a qualquer momento em outra parte do código"
   ]
  },
  {
   "cell_type": "markdown",
   "metadata": {},
   "source": [
    "**Funções sem parâmetro**\n",
    "\n",
    " formato padrão:\n",
    "\n",
    "def <nome>():\n",
    "\n",
    "    instruções\n",
    "\n",
    "def é a palavra-chave para criar uma função."
   ]
  },
  {
   "cell_type": "code",
   "execution_count": 36,
   "metadata": {},
   "outputs": [],
   "source": [
    "def media():\n",
    "    calculo = (10 + 9 + 8) / 3\n",
    "    print(calculo)"
   ]
  },
  {
   "cell_type": "code",
   "execution_count": 37,
   "metadata": {},
   "outputs": [
    {
     "name": "stdout",
     "output_type": "stream",
     "text": [
      "9.0\n"
     ]
    }
   ],
   "source": [
    "media()"
   ]
  },
  {
   "cell_type": "markdown",
   "metadata": {},
   "source": [
    "**Funções com parâmetros**\n",
    "\n",
    "Para que possamos colocar diferentes parâmetros, temos as funções com parâmetros. Com elas, conseguimos trazer dados com os quais a função deve trabalhar.\n",
    "\n",
    "A diferença entre a estrutura das funções com e sem parâmetros é que eles são passados entre parênteses e separados por vírgulas:\n",
    "\n",
    "def <nome>(<param_1>, <param_2>, ..., >param_n>):\n",
    "\n",
    "    instruções"
   ]
  },
  {
   "cell_type": "code",
   "execution_count": 38,
   "metadata": {},
   "outputs": [],
   "source": [
    "def media(nota_1, nota_2, nota_3):\n",
    "    calculo = (nota_1 + nota_2 + nota_3)/3\n",
    "    print(calculo)"
   ]
  },
  {
   "cell_type": "code",
   "execution_count": 39,
   "metadata": {},
   "outputs": [
    {
     "name": "stdout",
     "output_type": "stream",
     "text": [
      "6.0\n"
     ]
    }
   ],
   "source": [
    "media(3, 6, 9)"
   ]
  },
  {
   "cell_type": "markdown",
   "metadata": {},
   "source": [
    "<font color=yellow>Lembrete:</font> os parâmetros correspondem ao que passamos entre parênteses no momento de definir (criar) a função, por exemplo (nota_1 + nota_2 + nota_3). Os valores que passamos para substituir esses parâmetros no momento de executar a função passam a ser chamados de argumentos, por exemplo (3, 6, 9).\n",
    "O argumento não precisa necessariamente ser igual ao parâmetro. Mas quando criamos um parâmetro dentro dos parênteses da função, precisamos utilizar o mesmo nome para utilizá-lo nas instruções desta função."
   ]
  },
  {
   "cell_type": "code",
   "execution_count": 41,
   "metadata": {},
   "outputs": [
    {
     "name": "stdout",
     "output_type": "stream",
     "text": [
      "7.0\n"
     ]
    }
   ],
   "source": [
    "nota1 = 8\n",
    "nota2 = 7\n",
    "nota3 = 6\n",
    "\n",
    "media(nota1, nota2, nota3)"
   ]
  },
  {
   "cell_type": "markdown",
   "metadata": {},
   "source": [
    "<font color=purple>Exemplo:</font>  Recebemos uma demanda de calcular a média de um estudante a partir de uma lista, sendo possível alterar a quantidade de notas, sem impedir que o cálculo seja refeito. Os dados recebidos, desta vez, correspondem a uma lista contendo apenas as notas de um estudante em uma dada matéria."
   ]
  },
  {
   "cell_type": "code",
   "execution_count": 42,
   "metadata": {},
   "outputs": [],
   "source": [
    "# Notas do(a) estudante\n",
    "notas = [8.5, 9.0, 6.0, 10.0]"
   ]
  },
  {
   "cell_type": "code",
   "execution_count": 43,
   "metadata": {},
   "outputs": [],
   "source": [
    "def media(lista):\n",
    "    calculo = sum(lista) / len(lista)\n",
    "    print(calculo)"
   ]
  },
  {
   "cell_type": "code",
   "execution_count": 44,
   "metadata": {},
   "outputs": [
    {
     "name": "stdout",
     "output_type": "stream",
     "text": [
      "8.375\n"
     ]
    }
   ],
   "source": [
    "media(notas)"
   ]
  },
  {
   "cell_type": "code",
   "execution_count": 45,
   "metadata": {},
   "outputs": [
    {
     "name": "stdout",
     "output_type": "stream",
     "text": [
      "8.375\n"
     ]
    }
   ],
   "source": [
    "resultado = media(notas)"
   ]
  },
  {
   "cell_type": "code",
   "execution_count": 46,
   "metadata": {},
   "outputs": [
    {
     "data": {
      "text/plain": [
       "NoneType"
      ]
     },
     "execution_count": 46,
     "metadata": {},
     "output_type": "execute_result"
    }
   ],
   "source": [
    "type(resultado)\n",
    "#Isso ocorre porque, utilizando print, ele só serve para imprimir algo na tela, então não conseguimos salvar este valor printado em uma variável."
   ]
  },
  {
   "cell_type": "markdown",
   "metadata": {},
   "source": [
    "**Escopo de função:**\n",
    "\n",
    "Determina que uma variável que nasce dentro de uma função, também morre dentro desta função. Ou seja, existe apenas dentro da função, então não conseguimos utilizar este valor.\n",
    "\n",
    "**Utilização das funções em ciências de dados**\n",
    "\n",
    "A utilização de funções personalizadas em ciências de dados possibilita a modularização do código criando um script a ser seguido, tornando-o mais organizado e fácil de manter. Uma aplicação prática é utilizar funções para carregar diferentes fontes de dados, como arquivos CSV e bancos de dados para serem lidos pelo código e, em seguida, analisados pela pessoa usuária.\n",
    "\n",
    "E também permite a reutilização do código, evitando repetições desnecessárias de processos. Uma aplicação prática seria utilizar funções para limpar e pré-processar dados, como remover valores ausentes e padronizar o formato de datas, economizando tempo e evitando erros comuns."
   ]
  },
  {
   "cell_type": "markdown",
   "metadata": {},
   "source": [
    "### 02.03 Esscopo de uma variável"
   ]
  },
  {
   "cell_type": "markdown",
   "metadata": {},
   "source": [
    "Em Python, o escopo de uma variável é definido pela região do código onde ela pode ser acessada. No caso de uma função, o escopo pode ser dividido em duas categorias: escopo global e escopo local.\n",
    "\n",
    "O escopo global é o espaço no qual uma variável pode ser acessada por qualquer função ou código que esteja sendo executado no programa. Já o escopo local é o espaço no qual a variável pode ser acessada apenas pela função em que foi definida.\n",
    "\n",
    "O problema de escopo ocorre quando uma variável é definida dentro do escopo de uma função e, em seguida, é referenciada fora do escopo da função. Nesse caso, o Python gera uma mensagem de erro, indicando que a variável não foi definida (NameError).\n",
    "\n",
    "Abaixo segue um exemplo que ilustra esse comportamento. Inicialmente, vamos criar uma variável x externa a função soma(), na qual definimos uma outra variável y e, por fim, imprimimos a soma das duas variáveis."
   ]
  },
  {
   "cell_type": "code",
   "execution_count": 47,
   "metadata": {},
   "outputs": [],
   "source": [
    "x = 7\n",
    "\n",
    "def soma():\n",
    "  y = 9\n",
    "  print(x + y)"
   ]
  },
  {
   "cell_type": "markdown",
   "metadata": {},
   "source": [
    "Note que o x é a nossa variável definida no escopo global e o y a variável definida no escopo local da função soma(). Quando tentamos executar a nossa função, a soma é realizada normalmente:"
   ]
  },
  {
   "cell_type": "code",
   "execution_count": 48,
   "metadata": {},
   "outputs": [
    {
     "name": "stdout",
     "output_type": "stream",
     "text": [
      "16\n"
     ]
    }
   ],
   "source": [
    "soma()"
   ]
  },
  {
   "cell_type": "markdown",
   "metadata": {},
   "source": [
    "No entanto, o Python gera um erro quando tentamos imprimir a soma de x e y fora do escopo da função, pois a variável y existe apenas dentro da função soma()."
   ]
  },
  {
   "cell_type": "code",
   "execution_count": 49,
   "metadata": {},
   "outputs": [
    {
     "ename": "NameError",
     "evalue": "name 'y' is not defined",
     "output_type": "error",
     "traceback": [
      "\u001b[0;31m---------------------------------------------------------------------------\u001b[0m",
      "\u001b[0;31mNameError\u001b[0m                                 Traceback (most recent call last)",
      "Cell \u001b[0;32mIn[49], line 1\u001b[0m\n\u001b[0;32m----> 1\u001b[0m \u001b[38;5;28mprint\u001b[39m(x \u001b[38;5;241m+\u001b[39m \u001b[43my\u001b[49m)\n",
      "\u001b[0;31mNameError\u001b[0m: name 'y' is not defined"
     ]
    }
   ],
   "source": [
    "print(x + y)"
   ]
  },
  {
   "cell_type": "code",
   "execution_count": null,
   "metadata": {},
   "outputs": [],
   "source": [
    ".pip install \"numpy<2\"\n"
   ]
  },
  {
   "cell_type": "markdown",
   "metadata": {},
   "source": [
    "### 02.04 Funções com retorno"
   ]
  },
  {
   "cell_type": "markdown",
   "metadata": {},
   "source": [
    "**Funções que retornam valores**\n",
    "\n",
    "Diferente das outras funções, esta precisa da palavra-chave return ao final. Possui a seguinte estrutura:\n",
    "\n",
    "```\n",
    "def <nome>(<param_1>, <param_2>, ..., >param_n>):\n",
    "\n",
    "    instruções\n",
    "    \n",
    "    return resultado\n",
    "```"
   ]
  },
  {
   "cell_type": "markdown",
   "metadata": {},
   "source": [
    "<font color=purple>**Exemplo:**</font> Recebemos uma nova demanda, desta vez, de calcular a média de um estudante a partir de uma lista e retornar tanto a média quanto a situação do estudante (\"Aprovado(a)\" se a nota for maior ou igual a 6.0, caso contrário, será \"Reprovado(a)\"). Além disso, precisamos exibir um pequeno texto em que indicamos a média do(a) estudante e qual a situação. Os dados recebidos correspondem a uma lista contendo apenas as notas de um estudante em uma dada matéria.\n",
    "\n",
    "Usarei anota de apenas um estudante."
   ]
  },
  {
   "cell_type": "code",
   "execution_count": 59,
   "metadata": {},
   "outputs": [],
   "source": [
    "# Notas do(a) estudante\n",
    "notas = [6.0, 7.0, 9.0, 5.0]"
   ]
  },
  {
   "cell_type": "code",
   "execution_count": 55,
   "metadata": {},
   "outputs": [],
   "source": [
    "\"\"\"\n",
    " def boletim(lista):\n",
    "    media = sum(lista) / len(lista)\n",
    "\n",
    "    if media >= 6:\n",
    "        situacao = \"Aprovado(a)\"\n",
    "    else:\n",
    "        situacao = \"Reprovado(a)\"\n",
    "\n",
    "    return calculo\n",
    "\"\"\""
   ]
  },
  {
   "cell_type": "code",
   "execution_count": 56,
   "metadata": {},
   "outputs": [],
   "source": [
    "\"\"\"def boletim(lista):\n",
    "    media = sum(lista) / len(lista)\n",
    "\n",
    "    if media >= 6:\n",
    "        situacao = \"Aprovado(a)\"\n",
    "    else:\n",
    "        situacao = \"Reprovado(a)\"\n",
    "\n",
    "    return (media, situacao)"
   ]
  },
  {
   "cell_type": "code",
   "execution_count": 61,
   "metadata": {},
   "outputs": [],
   "source": [
    "media, situacao = boletim(notas)"
   ]
  },
  {
   "cell_type": "code",
   "execution_count": 63,
   "metadata": {},
   "outputs": [
    {
     "name": "stdout",
     "output_type": "stream",
     "text": [
      "O(a) estudante atingiu uma média de 6.75 e foi Aprovado(a).\n"
     ]
    }
   ],
   "source": [
    "print(f'O(a) estudante atingiu uma média de {media} e foi {situacao}.')"
   ]
  },
  {
   "cell_type": "markdown",
   "metadata": {},
   "source": [
    "### 02.05  documentando funções"
   ]
  },
  {
   "cell_type": "markdown",
   "metadata": {},
   "source": [
    "É importante deixar o nosso código ou análise dos dados o mais acessível possível para o público. Uma das formas de atingir esse propósito reside na documentação de funções. Podemos auxiliar quem lê o nosso projeto ou utiliza as funções que desenvolvemos a entender quais tipos de variáveis podemos usar, se existem ou não valores padrões ou até descrever de maneira sucinta o que aquele pedaço de código faz.\n",
    "\n",
    "Aqui, pedimos que você siga esse passo a passo na documentação da função de média que construímos durante a aula. Ela será novamente requisitada mais à frente em nossos estudos.\n",
    "\n",
    "**Type Hint**\n",
    "\n",
    "O [Type Hint](https://docs.python.org/pt-br/3/library/typing.html)é uma sintaxe utilizada no Python para indicar o tipo de dado esperado de um parâmetro ou retorno de função, auxiliando na legibilidade e manutenção do código. Podemos dizer, em poucas palavras, que ela é a dica de tipagem dos dados.\n",
    "\n",
    "Formato:\n",
    "\n",
    "```\n",
    "\n",
    "def <nome>(<param>: <tipo_param>) -> <tipo_retorno>:\n",
    "\n",
    "  <instruções>\n",
    "\n",
    "  return resultado\n",
    "\n",
    "```\n",
    "\n"
   ]
  },
  {
   "cell_type": "markdown",
   "metadata": {},
   "source": [
    "Trazendo para o nosso exemplo da função media(), podemos utilizar o type hint da seguinte forma:"
   ]
  },
  {
   "cell_type": "code",
   "execution_count": null,
   "metadata": {},
   "outputs": [],
   "source": [
    "# a nossa função recebe uma lista do tipo list e retorna uma variável do tipo float\n",
    "def media(lista: list) -> float:\n",
    "  calculo = sum(lista) / len(lista)\n",
    "  return calculo"
   ]
  },
  {
   "attachments": {
    "image.png": {
     "image/png": "[encoded data removed]"
    }
   },
   "cell_type": "markdown",
   "metadata": {},
   "source": [
    "Se escrevermos a função media() em outra célula e passarmos o mouse por cima, podemos observar a seguinte imagem apontando as dicas de tipagem dos parâmetros de entrada e retorno da função:\n",
    "\n",
    "![image.png](attachment:image.png)\n",
    "\n",
    "**Default value**\n",
    "\n",
    "No Python, o Default Value é um valor padrão atribuído a um argumento de função que é utilizado caso nenhum valor seja passado pelo usuário.\n",
    "\n",
    "Formato:\n",
    "\n",
    "```\n",
    "  <nome_variavel>: <tipo_variavel> = <valor_variavel>\n",
    "```"
   ]
  },
  {
   "cell_type": "markdown",
   "metadata": {},
   "source": [
    "Implementando ainda mais a nossa função media(), podemos utilizar o default value da seguinte forma:"
   ]
  },
  {
   "cell_type": "code",
   "execution_count": 64,
   "metadata": {},
   "outputs": [],
   "source": [
    "# a nossa função recebe uma lista do tipo list e retorna uma variável do tipo float\n",
    "# caso não recebe nenhum valor de parâmetro será passada uma lista com um único\n",
    "# elemento sendo ele zero\n",
    "def media(lista: list=[0]) -> float:\n",
    "  calculo = sum(lista) / len(lista)\n",
    "\n",
    "  return calculo"
   ]
  },
  {
   "attachments": {
    "image.png": {
     "image/png": "[encoded data removed]"
    }
   },
   "cell_type": "markdown",
   "metadata": {},
   "source": [
    "Da mesma forma que fizemos no type hint, se escrevermos a função media() em outra célula e passarmos o mouse por cima, podemos observar o que está na imagem abaixo. Nela temos apontado tanto as dicas de tipagem dos parâmetros de entrada e retorno da função, quanto o valor padrão para nossa lista, caso a pessoa usuária não passe nenhum valor na execução.\n",
    "\n",
    "![image.png](attachment:image.png)\n",
    "\n",
    "A Saída é 0.0"
   ]
  },
  {
   "cell_type": "markdown",
   "metadata": {},
   "source": [
    "Docstring\n",
    "Por fim, temos o Docstring que é uma string literal usada para documentar módulo, função, classe ou método em Python. Ela é colocada como o primeiro item de definição e pode ser acessada usando a função help().\n",
    "\n",
    "O Docstring deve descrever propósito, parâmetros, tipo de retorno e exceções levantadas pela função. É uma boa prática de programação utilizar Docstrings em seu código para facilitar a leitura, manutenção e compartilhamento do código com outras pessoas desenvolvedoras.\n",
    "\n",
    "Formato:\n",
    "\n",
    "```\n",
    "def <nome>(<param_1>, <param_2>, ..., <param_n>):\n",
    "\n",
    "    ''' Texto documentando sua função...\n",
    "    '''\n",
    "    \n",
    "  <instruções>\n",
    "  return resultado\n",
    "```"
   ]
  },
  {
   "cell_type": "markdown",
   "metadata": {},
   "source": [
    "Concluindo a implementação da nossa função media(), podemos utilizar o docstring da seguinte forma:\n"
   ]
  },
  {
   "cell_type": "code",
   "execution_count": 65,
   "metadata": {},
   "outputs": [],
   "source": [
    "def media(lista: list=[0]) -> float:\n",
    "  ''' Função para calcular a média de notas passadas por uma lista\n",
    "\n",
    "  lista: list, default [0]\n",
    "    Lista com as notas para calcular a média\n",
    "  return = calculo: float\n",
    "    Média calculada\n",
    "  '''\n",
    "  calculo = sum(lista) / len(lista)\n",
    "  return calculo"
   ]
  },
  {
   "cell_type": "code",
   "execution_count": null,
   "metadata": {},
   "outputs": [],
   "source": [
    "Help on function media in module __main__:\n",
    "\n",
    "media(lista: list = [0]) -> float\n",
    "    Função para calcular a média de notas passadas por uma lista\n",
    "\n",
    "    lista: list, default [0]\n",
    "      Lista com as notas para calcular a média\n",
    "    return = calculo: float\n",
    "      Média calculada"
   ]
  },
  {
   "cell_type": "markdown",
   "metadata": {},
   "source": [
    " [conceitos de documentação de códigos em Python.](https://towardsdatascience.com/12-beginner-concepts-about-type-hints-to-improve-your-python-code-90f1ba0ac49)"
   ]
  },
  {
   "cell_type": "markdown",
   "metadata": {},
   "source": [
    "### 02.06 Funções lambda"
   ]
  },
  {
   "cell_type": "markdown",
   "metadata": {},
   "source": [
    "Uma função lambda, também chamada de função anônima, não precisa ser definida, ou seja, não possui um nome. Além disso, pode ser descrita uma única linha.\n",
    "\n",
    "O formato mais simples desta função é o seguinte:\n",
    "\n",
    "```\n",
    "lambda <variavel>: <expressao>\n",
    "```"
   ]
  },
  {
   "cell_type": "markdown",
   "metadata": {},
   "source": [
    "<font color=purple>**Exempllo**</font> criar uma calculadora simples da média ponderada de notas de uma dada matéria. Vamos requisitar ao usuário a entrada das 3 notas (N1, N2, N3) do estudante e devolver a média ponderada deste estudante. Os pesos das notas são de, respectivamente 3, 2, 5. Precisamos exibir um pequeno texto em que indicamos a média do(a) estudante. "
   ]
  },
  {
   "cell_type": "code",
   "execution_count": 67,
   "metadata": {},
   "outputs": [
    {
     "data": {
      "text/plain": [
       "8.5"
      ]
     },
     "execution_count": 67,
     "metadata": {},
     "output_type": "execute_result"
    }
   ],
   "source": [
    "#comparação aplicando qualitativo (pontuação extra) a uma média do estudante\n",
    "\n",
    "nota = float(input(\"Digite a nota do(a) estudante: \"))\n",
    "\n",
    "def qualitativo(x):\n",
    "    return x + 0.5\n",
    "\n",
    "qualitativo(nota)"
   ]
  },
  {
   "cell_type": "code",
   "execution_count": 68,
   "metadata": {},
   "outputs": [
    {
     "data": {
      "text/plain": [
       "8.5"
      ]
     },
     "execution_count": 68,
     "metadata": {},
     "output_type": "execute_result"
    }
   ],
   "source": [
    "# Testando a mesma função para uma função lambda (Variavel)\n",
    "nota = float(input(\"Digite a nota do(a) estudante: \"))\n",
    "\n",
    "qualitativo = lambda x: x + 0.5\n",
    "\n",
    "qualitativo(nota)"
   ]
  },
  {
   "cell_type": "code",
   "execution_count": 70,
   "metadata": {},
   "outputs": [
    {
     "data": {
      "text/plain": [
       "7.9"
      ]
     },
     "execution_count": 70,
     "metadata": {},
     "output_type": "execute_result"
    }
   ],
   "source": [
    "# Recebendo as notas e calculando a média ponderável\n",
    "N1 = float(input(\"Digite a 1ª nota do(a) estudante: \"))\n",
    "N2 = float(input(\"Digite a 2ª nota do(a) estudante: \"))\n",
    "N3 = float(input(\"Digite a 3ª nota do(a) estudante: \"))\n",
    "\n",
    "media_ponderavel = lambda x, y, z: (x * 3 + y * 2 + z * 5)/10\n",
    "media_estudante = media_ponderavel(N1, N2, N3)\n",
    "media_estudante"
   ]
  },
  {
   "cell_type": "code",
   "execution_count": 71,
   "metadata": {},
   "outputs": [
    {
     "name": "stdout",
     "output_type": "stream",
     "text": [
      "O(a) estudante atingiu uma média de 7.9\n"
     ]
    }
   ],
   "source": [
    "# Exibindo a média\n",
    "print(f'O(a) estudante atingiu uma média de {media_estudante}')"
   ]
  },
  {
   "cell_type": "markdown",
   "metadata": {},
   "source": [
    " **atrelar a função lambda ao map**\n",
    "\n",
    "O map é uma _BUILT-IN FUNCTIONS que mapeia valores. Quando usado junto à lambda, conseguimos realizar funções simples e rápidas que nos permitem alterar valores de variáveis, listas e até dicionários.\n",
    "\n",
    "O formato padrão é o seguinte:\n",
    "\n",
    "```\n",
    "map(<lambda function>, <iterador>)\n",
    "```"
   ]
  },
  {
   "cell_type": "markdown",
   "metadata": {},
   "source": [
    "<font color=purple>Exemplo</font>criar uma pequena função que pudesse adicionar qualitativo (pontuação extra) às notas do trimestre dos estudantes da turma que ganhou a gincana de programação promovida pela escola. Cada estudante receberá o qualitativo de 0.5 acrescido à média. Os dados recebidos correspondem a uma lista contendo as notas de alguns estudantes e uma variável com o qualitativo recebido.\n",
    "Para facilitar o nosso entendimento do processo vamos aplicar o qualitativo às notas de 5 estudantes"
   ]
  },
  {
   "cell_type": "code",
   "execution_count": 72,
   "metadata": {},
   "outputs": [],
   "source": [
    "# Notas do(a) estudante\n",
    "notas = [6.0, 7.0, 9.0, 5.5, 8.0]\n",
    "qualitativo = 0.5"
   ]
  },
  {
   "cell_type": "code",
   "execution_count": null,
   "metadata": {},
   "outputs": [],
   "source": [
    "# Recebendo notas\n",
    "notas_atualizadas = lambda x: x + qualitativo\n",
    "notas_atualizadas(notas)\n",
    "\n",
    "# o x é lido como uma lista completa e não cada um de seus elementos separadamente. Além disso, qualitativo é do tipo float."
   ]
  },
  {
   "cell_type": "markdown",
   "metadata": {},
   "source": [
    "Ao invés de pegar o qualitativo e somar a cada dado da lista, separadamente, ele tenta somá-lo à lista inteira, o que não é possível.\n",
    "\n",
    "O que precisamos fazer, então, é utilizar o map utilizando basicamente a mesma função, com a diferença que passamos o iterável notas:"
   ]
  },
  {
   "cell_type": "code",
   "execution_count": 74,
   "metadata": {},
   "outputs": [
    {
     "data": {
      "text/plain": [
       "<map at 0x7f05066dc9a0>"
      ]
     },
     "execution_count": 74,
     "metadata": {},
     "output_type": "execute_result"
    }
   ],
   "source": [
    "# Não conseguimos aplicar o lambda em lista direto, é necessário utilizarmos junto a ela a função map\n",
    "notas_atualizadas = map(lambda x: x + qualitativo, notas)\n",
    "notas_atualizadas\n",
    "# objeto do tipo mapa que mapeou os valores. Para conseguimos visualizá-lo, precisamos usar uma _BUILT-IN FUNCTIONS chamada list que transforma o objeto mapa em uma lista.\n"
   ]
  },
  {
   "cell_type": "code",
   "execution_count": 75,
   "metadata": {},
   "outputs": [],
   "source": [
    "notas_atualizadas = list(notas_atualizadas)"
   ]
  },
  {
   "cell_type": "code",
   "execution_count": 76,
   "metadata": {},
   "outputs": [
    {
     "data": {
      "text/plain": [
       "[6.5, 7.5, 9.5, 6.0, 8.5]"
      ]
     },
     "execution_count": 76,
     "metadata": {},
     "output_type": "execute_result"
    }
   ],
   "source": [
    "notas_atualizadas"
   ]
  },
  {
   "cell_type": "markdown",
   "metadata": {},
   "source": [
    "Conseguimos as notas com o aumento de 0.5."
   ]
  },
  {
   "cell_type": "markdown",
   "metadata": {},
   "source": [
    "## <font color=blue>**03. Estruturas de dados**</font>"
   ]
  },
  {
   "cell_type": "markdown",
   "metadata": {},
   "source": [
    "### 03.01 Listas de listas "
   ]
  },
  {
   "cell_type": "markdown",
   "metadata": {},
   "source": [
    "Uma lista é uma coleção ordenada de elementos que podem ser ou não do mesmo tipo. Podemos ter strings, números, tuplas e até mesmo listas."
   ]
  },
  {
   "cell_type": "markdown",
   "metadata": {},
   "source": [
    "**Listas de listas**\n",
    "\n",
    "Formato padrão:"
   ]
  },
  {
   "cell_type": "code",
   "execution_count": null,
   "metadata": {},
   "outputs": [],
   "source": [
    "[[a1, a2,...,an], [b1, b2,...,bn], ..., [n1, n2,...,nn]]"
   ]
  },
  {
   "cell_type": "markdown",
   "metadata": {},
   "source": [
    "Essa lista é separada por colchetes e seus elementos são separados por vírgula. Entre vírgulas estão as listas. Para entender um pouco mais sobre como utilizar esse tipo de estrutura, vamos trabalhar com uma solução-problema, resolvendo mais uma demanda da escola, utilizando esse ferramental.\n",
    "\n"
   ]
  },
  {
   "cell_type": "markdown",
   "metadata": {},
   "source": [
    "<font color=purple>**Exemplo**</font> Transformar uma lista com o nome e as notas dos três trimestres de estudantes em uma lista simples com os nomes separados das notas e uma lista de listas com as três notas de cada estudante separadas umas das outras.\n",
    "\n",
    "Os dados recebidos correspondem a uma lista com os nomes e as respectivas notas de cada estudante.\n",
    "\n",
    " Para facilitar o nosso entendimento do processo vamos trabalhar com uma turma fictícia de 5 estudantes.\n"
   ]
  },
  {
   "cell_type": "code",
   "execution_count": 78,
   "metadata": {},
   "outputs": [],
   "source": [
    "notas_turma = ['João', 8.0, 9.0, 10.0, 'Maria', 9.0, 7.0, 6.0, 'José', 3.4, 7.0, 7.0, 'Cláudia', 5.5, 6.6, 8.0, 'Ana', 6.0, 10.0, 9.5]"
   ]
  },
  {
   "cell_type": "code",
   "execution_count": 79,
   "metadata": {},
   "outputs": [],
   "source": [
    "nomes = []\n",
    "notas_juntas = []\n",
    "\n",
    "for i in range(len(notas_turma)):\n",
    "  if i % 4 ==0:\n",
    "      nomes.append(notas_turma[i])\n",
    "  else:\n",
    "      notas_juntas.append(notas_turma[i])"
   ]
  },
  {
   "cell_type": "code",
   "execution_count": 80,
   "metadata": {},
   "outputs": [
    {
     "data": {
      "text/plain": [
       "['João', 'Maria', 'José', 'Cláudia', 'Ana']"
      ]
     },
     "execution_count": 80,
     "metadata": {},
     "output_type": "execute_result"
    }
   ],
   "source": [
    "nomes"
   ]
  },
  {
   "cell_type": "code",
   "execution_count": 81,
   "metadata": {},
   "outputs": [
    {
     "data": {
      "text/plain": [
       "[8.0, 9.0, 10.0, 9.0, 7.0, 6.0, 3.4, 7.0, 7.0, 5.5, 6.6, 8.0, 6.0, 10.0, 9.5]"
      ]
     },
     "execution_count": 81,
     "metadata": {},
     "output_type": "execute_result"
    }
   ],
   "source": [
    "notas_juntas"
   ]
  },
  {
   "cell_type": "markdown",
   "metadata": {},
   "source": [
    "<font color=yellow>**Lembrete**</font> método append() sempre recebe apenas um valor colocado dentro de uma lista. Se estamos passando uma lista de listas, ela será considerada um único elemento."
   ]
  },
  {
   "cell_type": "code",
   "execution_count": 82,
   "metadata": {},
   "outputs": [
    {
     "data": {
      "text/plain": [
       "[[8.0, 9.0, 10.0],\n",
       " [9.0, 7.0, 6.0],\n",
       " [3.4, 7.0, 7.0],\n",
       " [5.5, 6.6, 8.0],\n",
       " [6.0, 10.0, 9.5]]"
      ]
     },
     "execution_count": 82,
     "metadata": {},
     "output_type": "execute_result"
    }
   ],
   "source": [
    "notas = []\n",
    "\n",
    "for i in range(0, len(notas_juntas), 3):\n",
    "  notas.append([notas_juntas[i], notas_juntas[i+1], notas_juntas[i+2]])\n",
    "notas"
   ]
  },
  {
   "cell_type": "markdown",
   "metadata": {},
   "source": [
    "A indexação de uma lista simples segue o seguinte \n",
    "\n",
    "formato:\n",
    "\n",
    "Teremos notas e leremos a posição zero, referente às notas de João."
   ]
  },
  {
   "cell_type": "code",
   "execution_count": 83,
   "metadata": {},
   "outputs": [
    {
     "data": {
      "text/plain": [
       "[8.0, 9.0, 10.0]"
      ]
     },
     "execution_count": 83,
     "metadata": {},
     "output_type": "execute_result"
    }
   ],
   "source": [
    "notas[0]"
   ]
  },
  {
   "cell_type": "code",
   "execution_count": 84,
   "metadata": {},
   "outputs": [
    {
     "data": {
      "text/plain": [
       "10.0"
      ]
     },
     "execution_count": 84,
     "metadata": {},
     "output_type": "execute_result"
    }
   ],
   "source": [
    "notas[0][2]"
   ]
  },
  {
   "cell_type": "markdown",
   "metadata": {},
   "source": [
    "Chegamos a notaa de João"
   ]
  },
  {
   "cell_type": "markdown",
   "metadata": {},
   "source": [
    "### 03.02 trabalhando com tuplas"
   ]
  },
  {
   "cell_type": "markdown",
   "metadata": {},
   "source": [
    "As tuplas são estruturas de dados imutáveis da linguagem Python que são utilizadas para armazenar conjuntos de múltiplos itens e frequentemente são aplicadas para agrupar dados que não devem ser modificados. Ou seja, não é possível adicionar, alterar ou remover seus elementos depois de criadas. Vamos explorar um pouco mais desse tipo de estrutura voltada à aplicação em ciência de dados.\n",
    "\n",
    "Tuplas são especialmente úteis em situações nas quais precisamos garantir que os dados não sejam alterados acidental ou intencionalmente. Por exemplo, em um conjunto de dados que representa o cadastro de estudantes, podemos utilizar uma tupla para representar aquele(a) estudante em específico e manter no banco de dados de uma instituição de ensino. Dessa forma, garantimos que as informações de cada estudante não sejam alteradas inadvertidamente.\n",
    "\n",
    "Para criar uma tupla, basta separar seus elementos por vírgulas e envolvê-los entre parênteses. Por exemplo, podemos criar uma tupla com um registro de uma estudante da seguinte maneira:"
   ]
  },
  {
   "cell_type": "code",
   "execution_count": 85,
   "metadata": {},
   "outputs": [],
   "source": [
    "cadastro = (\"Júlia\", 23, \"São Paulo\", \"SP\", \"Python para DS 1\")"
   ]
  },
  {
   "cell_type": "markdown",
   "metadata": {},
   "source": [
    "Para acessar os elementos de uma tupla, podemos usar o índice entre colchetes. Por exemplo:"
   ]
  },
  {
   "cell_type": "code",
   "execution_count": 87,
   "metadata": {},
   "outputs": [
    {
     "name": "stdout",
     "output_type": "stream",
     "text": [
      "Júlia\n",
      "Python para DS 1\n"
     ]
    }
   ],
   "source": [
    "print(cadastro[0]) # imprime Júlia\n",
    "print(cadastro[-1]) # imprime Python para DS 1"
   ]
  },
  {
   "cell_type": "markdown",
   "metadata": {},
   "source": [
    "Além disso, por também ser um iterável, podemos desempacotar os dados de uma tupla passando cada valor para uma variável. Por exemplo:"
   ]
  },
  {
   "cell_type": "code",
   "execution_count": 88,
   "metadata": {},
   "outputs": [],
   "source": [
    "nome, idade, cidade, estado, turma = cadastro"
   ]
  },
  {
   "cell_type": "code",
   "execution_count": 89,
   "metadata": {},
   "outputs": [
    {
     "name": "stdout",
     "output_type": "stream",
     "text": [
      "A estudante Júlia tem 23 anos e mora em São Paulo-SP. Ela está matriculada na turma de Python para DS 1.\n"
     ]
    }
   ],
   "source": [
    "print(f'A estudante {nome} tem {idade} anos e mora em {cidade}-{estado}. Ela está matriculada na turma de {turma}.')"
   ]
  },
  {
   "cell_type": "markdown",
   "metadata": {},
   "source": [
    "### 03.03 Lista de tuplas"
   ]
  },
  {
   "cell_type": "markdown",
   "metadata": {},
   "source": [
    "Tuplas\n",
    "As tuplas são estruturas de dados usadas para armazenar itens em uma única variável. São imutáveis, ou seja, não permitem adição, alteração ou remoção de seus elementos. Após ser construída, seus dados são fixos.\n",
    "\n",
    "Isso é muito importante quando desejamos trabalhar com dados que não devem ser alterados ou que sejam utilizados da mesma forma desde sua criação. Para compreendermos o funcionamento das listas de tuplas, vamos trabalhar com uma situação-problema: uma nova demanda da escola para armazenar os IDs e os nomes dos estudantes."
   ]
  },
  {
   "cell_type": "markdown",
   "metadata": {},
   "source": [
    "<font color=purple>**Exemplo:**</font>Gerar uma lista de tuplas com os nomes dos estudantes e o código ID de cada um para a plataforma de análise dos dados. A criação do código consiste em concatenar a primeira letra do nome do estudante a um número aleatório de 0 a 999. Os dados recebidos correspondem a uma lista dos nomes de cada estudante.\n",
    "\n",
    "Para facilitar o nosso entendimento do processo vamos trabalhar com uma turma fictícia de 5 estudantes."
   ]
  },
  {
   "cell_type": "code",
   "execution_count": 90,
   "metadata": {},
   "outputs": [
    {
     "data": {
      "text/plain": [
       "['João', 'Maria', 'José', 'Cláudia', 'Ana']"
      ]
     },
     "execution_count": 90,
     "metadata": {},
     "output_type": "execute_result"
    }
   ],
   "source": [
    "estudantes = [\"João\", \"Maria\", \"José\", \"Cláudia\", \"Ana\"]\n",
    "estudantes"
   ]
  },
  {
   "cell_type": "markdown",
   "metadata": {},
   "source": [
    "- O randint é uma função que gera um inteiro partindo de um ponto inicial a um ponto final.\n",
    "\n",
    "- O número que queremos será escolhido dentro do randint.\n",
    "\n",
    "- Este randint é de valor fechado, ou seja, o número inicial e final também podem ser escolhidos."
   ]
  },
  {
   "cell_type": "code",
   "execution_count": 92,
   "metadata": {},
   "outputs": [],
   "source": [
    "from random import randint\n",
    "\n",
    "def gera_codigo():\n",
    "  return str(randint(0,999))"
   ]
  },
  {
   "cell_type": "markdown",
   "metadata": {},
   "source": [
    "<font color=yellow>**Lembrete**</font> Para criar tuplas, usamos parênteses e para criar listas, colchetes."
   ]
  },
  {
   "cell_type": "code",
   "execution_count": 99,
   "metadata": {},
   "outputs": [
    {
     "data": {
      "text/plain": [
       "[('João', 'J85'),\n",
       " ('Maria', 'M862'),\n",
       " ('José', 'J395'),\n",
       " ('Cláudia', 'C422'),\n",
       " ('Ana', 'A926')]"
      ]
     },
     "execution_count": 99,
     "metadata": {},
     "output_type": "execute_result"
    }
   ],
   "source": [
    "codigo_estudantes = []\n",
    "\n",
    "for i in range(len(estudantes)):\n",
    "    # Verifica se estudante[i] é uma string não vazia antes de acessar estudante[i][0]\n",
    "    if isinstance(estudantes[i], str) and len(estudantes[i]) > 0:\n",
    "        codigo_estudantes.append((estudantes[i], estudantes[i][0] + gera_codigo()))\n",
    "    else:\n",
    "        # Tratamento caso estudante[i] não seja uma string não vazia\n",
    "        codigo_estudantes.append((estudantes[i], gera_codigo()))\n",
    "\n",
    "codigo_estudantes\n"
   ]
  },
  {
   "cell_type": "markdown",
   "metadata": {},
   "source": [
    "### 03.04 List comprehension"
   ]
  },
  {
   "cell_type": "markdown",
   "metadata": {},
   "source": [
    "A List comprehension é uma forma simples e concisa de criar listas, sendo que essas listas seguirão alguns padrões, via condicionais, laços e outras expressões.\n",
    "\n",
    "[documeentação-comprreensão de listas](https://docs.python.org/pt-br/3/tutorial/datastructures.html#list-comprehensions)\n",
    "\n",
    "O formato padrão é:\n",
    "\n",
    "\n",
    "```\n",
    "[expressão for item in lista]\n",
    "COPIAR CÓDIGO\n",
    "```\n",
    "\n",
    "Entre colchetes, temos uma expressão. Ela está em um item que está dentro da lista. Essa lista poderia ser um iterável, como uma tupla ou os valores de um dicionário.\n",
    "\n",
    "A ideia é pegar cada elemento desse iterável e aplicar uma expressão. É bem parecido com lambda, mas, neste caso, estamos trabalhando com a geração de uma lista."
   ]
  },
  {
   "cell_type": "markdown",
   "metadata": {},
   "source": [
    "<font color=purple>**Exemplo**</font> Criar uma lista com as médias dos estudantes da lista de listas que criamos na Situação 6. Lembrando que cada lista da lista de listas possui as três notas de cada estudante.\n",
    "\n",
    "```\n",
    "O formato: [exressão for item in lista]\n",
    "```"
   ]
  },
  {
   "cell_type": "code",
   "execution_count": 100,
   "metadata": {},
   "outputs": [],
   "source": [
    "notas = [[8.0, 9.0, 10.0], [9.0, 7.0, 6.0], [3.4, 7.0, 7.0], [5.5, 6.6, 8.0], [6.0, 10.0, 9.5]]"
   ]
  },
  {
   "cell_type": "code",
   "execution_count": 101,
   "metadata": {},
   "outputs": [],
   "source": [
    "def media(lista: list=[0]) -> float:\n",
    "\n",
    "  ''' Função para calcular a média de notas passadas por uma lista\n",
    "\n",
    "  lista: list, default [0]\n",
    "    Lista com as notas para calcular a média\n",
    "  return = calculo: float\n",
    "    Média calculada\n",
    "  '''\n",
    "\n",
    "  calculo = sum(lista) / len(lista)\n",
    "\n",
    "  return calculo"
   ]
  },
  {
   "cell_type": "code",
   "execution_count": 103,
   "metadata": {},
   "outputs": [
    {
     "data": {
      "text/plain": [
       "[9.0, 7.3, 5.8, 6.7, 8.5]"
      ]
     },
     "execution_count": 103,
     "metadata": {},
     "output_type": "execute_result"
    }
   ],
   "source": [
    "medias = [round(media(nota), 1) for nota in notas]\n",
    "medias"
   ]
  },
  {
   "cell_type": "markdown",
   "metadata": {},
   "source": [
    "<font color=purple>**Exemplo**</font> Utilizar as médias calculadas no exemplo anterior, pareando com o nome dos estudantes. Isto será necessário para gerar uma lista que selecione aqueles estudantes que possuam uma média final maior ou igual a 8 para concorrer a uma bolsa para o próximo ano letivo.\n",
    "\n",
    "Os dados recebidos correspondem a uma lista de tuplas com os nomes e códigos dos estudantes e a lista de médias calculadas logo acima.\n",
    "\n",
    "Para facilitar o nosso entendimento do processo vamos trabalhar com uma turma fictícia de 5 estudantes.\n",
    "\n",
    "```\n",
    "O formato: [expr for item in lista if cond]\n",
    "```\n",
    "\n",
    "\n",
    "\n"
   ]
  },
  {
   "cell_type": "code",
   "execution_count": 104,
   "metadata": {},
   "outputs": [],
   "source": [
    "nomes = [('João', 'J720'), ('Maria', 'M205'), ('José', 'J371'), ('Cláudia', 'C546'), ('Ana', 'A347')]\n",
    "medias = [9.0, 7.3, 5.8, 6.7, 8.5]"
   ]
  },
  {
   "cell_type": "code",
   "execution_count": 105,
   "metadata": {},
   "outputs": [
    {
     "data": {
      "text/plain": [
       "['João', 'Maria', 'José', 'Cláudia', 'Ana']"
      ]
     },
     "execution_count": 105,
     "metadata": {},
     "output_type": "execute_result"
    }
   ],
   "source": [
    "lista_nomes = [nome[0] for nome in nomes]\n",
    "lista_nomes"
   ]
  },
  {
   "cell_type": "markdown",
   "metadata": {},
   "source": [
    "**built-in function: zip()**\n",
    "\n",
    "O zip() recebe um ou mais iteráveis (lista, string, dict, etc.) e retorna-os como um iterador de tuplas onde cada elemento dos iteráveis são pareados."
   ]
  },
  {
   "cell_type": "code",
   "execution_count": 106,
   "metadata": {},
   "outputs": [
    {
     "data": {
      "text/plain": [
       "[(('João', 'J720'), 9.0),\n",
       " (('Maria', 'M205'), 7.3),\n",
       " (('José', 'J371'), 5.8),\n",
       " (('Cláudia', 'C546'), 6.7),\n",
       " (('Ana', 'A347'), 8.5)]"
      ]
     },
     "execution_count": 106,
     "metadata": {},
     "output_type": "execute_result"
    }
   ],
   "source": [
    "estudantes = list(zip(nomes, medias))\n",
    "estudantes"
   ]
  },
  {
   "cell_type": "markdown",
   "metadata": {},
   "source": [
    "**Gerando a lista de pessoas candidatas a bolsa**\n"
   ]
  },
  {
   "cell_type": "code",
   "execution_count": 107,
   "metadata": {},
   "outputs": [
    {
     "data": {
      "text/plain": [
       "[('João', 'J720'), ('Ana', 'A347')]"
      ]
     },
     "execution_count": 107,
     "metadata": {},
     "output_type": "execute_result"
    }
   ],
   "source": [
    "candidatos = [estudante[0] for estudante in estudantes if estudante[1] >= 8]\n",
    "candidatos"
   ]
  },
  {
   "cell_type": "markdown",
   "metadata": {},
   "source": [
    "### 03.05 Função zip"
   ]
  },
  {
   "cell_type": "markdown",
   "metadata": {},
   "source": [
    "A zip() é uma função embutida do Python que recebe um ou mais iteráveis (lista, string, dict, etc.) e retorna-os como um iterador de tuplas onde cada elemento dos iteráveis são pareados. Ela é útil para fazer iterações simultâneas em várias listas.\n",
    "\n",
    "A função zip() pode ser usada em conjunto com outras funções do Python, como map() e filter(), para criar soluções elegantes e concisas para certos problemas. Vamos fazer um simples teste para verificar esse comportamento:"
   ]
  },
  {
   "cell_type": "code",
   "execution_count": 108,
   "metadata": {},
   "outputs": [
    {
     "data": {
      "text/plain": [
       "<zip at 0x7f04ffd02400>"
      ]
     },
     "execution_count": 108,
     "metadata": {},
     "output_type": "execute_result"
    }
   ],
   "source": [
    "objeto_zip = zip([1,2,3])\n",
    "objeto_zip"
   ]
  },
  {
   "cell_type": "markdown",
   "metadata": {},
   "source": [
    "Percebemos que o zip() criou um objeto zip na memória, que seria o nosso iterável. Vamos colocar o resultado em uma lista para verificar a saída:"
   ]
  },
  {
   "cell_type": "code",
   "execution_count": 109,
   "metadata": {},
   "outputs": [
    {
     "data": {
      "text/plain": [
       "[(1,), (2,), (3,)]"
      ]
     },
     "execution_count": 109,
     "metadata": {},
     "output_type": "execute_result"
    }
   ],
   "source": [
    "list(objeto_zip)"
   ]
  },
  {
   "cell_type": "markdown",
   "metadata": {},
   "source": [
    "Note que, com apenas um iterável, uma lista de tuplas foi gerada com cada tupla possuindo, como um dos pares, os elementos vindo da lista [1, 2, 3] e a outra parte dos pares vazia. Como utilizamos apenas um iterável, cada tupla está vazia no 2º elemento, uma vez que o zip() age em criar pares de iteráveis.\n",
    "\n",
    "Mas o mais interessante é trabalhar com dois ou mais iteráveis em que podemos pareá-los. Por exemplo, se quisermos criar uma lista de tuplas com o mapeamento das regiões do Brasil com seus respectivos ids:"
   ]
  },
  {
   "cell_type": "code",
   "execution_count": 110,
   "metadata": {},
   "outputs": [
    {
     "data": {
      "text/plain": [
       "[(1, 'Norte'),\n",
       " (2, 'Nordeste'),\n",
       " (3, 'Sudeste'),\n",
       " (4, 'Centro-Oeste'),\n",
       " (5, 'Sul')]"
      ]
     },
     "execution_count": 110,
     "metadata": {},
     "output_type": "execute_result"
    }
   ],
   "source": [
    "id = [1, 2, 3, 4, 5]\n",
    "regiao = [\"Norte\", \"Nordeste\", \"Sudeste\", \"Centro-Oeste\", \"Sul\"]\n",
    "\n",
    "mapa = list(zip(id, regiao))\n",
    "mapa"
   ]
  },
  {
   "cell_type": "markdown",
   "metadata": {},
   "source": [
    "Para uma pessoa cientista de dados, essa função pode auxiliar a parear 2 listas distintas em um único objeto zip, podendo este ser transformado em uma lista de tuplas (formato ideal para gerar um índice de mais de um nível que será explorado em alguns dos cursos da formação) ou em um dicionário passando o objeto zip para a função dict().\n",
    "\n",
    "Agora, se as listas de entrada têm comprimentos diferentes, a saída contém o mesmo número de tuplas que a lista de menor comprimento e os elementos restantes dos outros iteráveis serão ignorados. Por exemplo:"
   ]
  },
  {
   "cell_type": "code",
   "execution_count": 111,
   "metadata": {},
   "outputs": [
    {
     "data": {
      "text/plain": [
       "[('1000', 'maçã'), ('1001', 'uva'), ('1002', 'banana'), ('1003', 'laranja')]"
      ]
     },
     "execution_count": 111,
     "metadata": {},
     "output_type": "execute_result"
    }
   ],
   "source": [
    "codigos = [\"1000\", \"1001\", \"1002\", \"1003\", \"1004\", \"1005\"]\n",
    "frutas = [\"maçã\", \"uva\", \"banana\", \"laranja\"]\n",
    "\n",
    "mercadorias = list(zip(codigos, frutas))\n",
    "mercadorias"
   ]
  },
  {
   "cell_type": "markdown",
   "metadata": {},
   "source": [
    "Para fazer o processo contrário, de transformar uma tupla iterável em listas, basta passar o operador asterisco (*) ao lado esquerdo do nome da tupla iterável que quer extrair os dados, repassando cada tupla para uma variável."
   ]
  },
  {
   "cell_type": "code",
   "execution_count": 112,
   "metadata": {},
   "outputs": [
    {
     "name": "stdout",
     "output_type": "stream",
     "text": [
      "IDs =  ['J392', 'M890', 'J681', 'C325', 'A49']\n",
      "Nomes =  ['João', 'Maria', 'José', 'Claúdia', 'Ana']\n"
     ]
    }
   ],
   "source": [
    "tupla_iteravel = [('J392', 'João'), ('M890', 'Maria'), ('J681', 'José'), ('C325', 'Claúdia'), ('A49', 'Ana')]\n",
    "ids, nomes  = zip(*tupla_iteravel)\n",
    "\n",
    "ids = list(ids)\n",
    "nomes = list(nomes)\n",
    "\n",
    "print(\"IDs = \", ids)\n",
    "print(\"Nomes = \", nomes)"
   ]
  },
  {
   "cell_type": "markdown",
   "metadata": {},
   "source": [
    "A ideia de fazer um “unzip” é bem-vinda quando queremos extrair chaves ou valores separadamente ou gerar uma lista de tuplas separadas, com o conjunto de chaves e valores cada uma representados em uma tupla."
   ]
  },
  {
   "cell_type": "markdown",
   "metadata": {},
   "source": [
    "### 03.06 List comprehension com if-else"
   ]
  },
  {
   "cell_type": "markdown",
   "metadata": {},
   "source": [
    "<font color=purple>**Exxemplo**</font>duas demandas a respeito desse projeto com as notas dos estudantes:\n",
    "\n",
    "Criar uma lista da situação dos estudantes em que caso sua média seja maior ou igual a 6 receberá o valor \"Aprovado\" e caso contrário receberá o valor \"Reprovado\".\n",
    "\n",
    "Gerar uma lista de listas com:\n",
    "\n",
    "-Lista de tuplas com o nome dos estudantes e seus códigos.\n",
    "\n",
    "-Lista de listas com as notas de cada estudante.\n",
    "\n",
    "-Lista com as médias de cada estudante.\n",
    "\n",
    "-Lista da situação dos estudantes de acordo com as médias.\n",
    "\n",
    "Os dados que utilizaremos são os mesmos que geramos nas situações anteriores (nomes, notas, medias).\n",
    "\n",
    "```\n",
    " Formato: [resultado_if if cond else resultado_else for item in lista]\n",
    " ```"
   ]
  },
  {
   "cell_type": "code",
   "execution_count": 113,
   "metadata": {},
   "outputs": [],
   "source": [
    "nomes = [('João', 'J720'), ('Maria', 'M205'), ('José', 'J371'), ('Cláudia', 'C546'), ('Ana', 'A347')]\n",
    "notas = [[8.0, 9.0, 10.0], [9.0, 7.0, 6.0], [3.4, 7.0, 7.0], [5.5, 6.6, 8.0], [6.0, 10.0, 9.5]]\n",
    "medias = [9.0, 7.3, 5.8, 6.7, 8.5]"
   ]
  },
  {
   "cell_type": "code",
   "execution_count": 115,
   "metadata": {},
   "outputs": [
    {
     "data": {
      "text/plain": [
       "['Aprovado', 'Aprovado', 'Reprovado', 'Aprovado', 'Aprovado']"
      ]
     },
     "execution_count": 115,
     "metadata": {},
     "output_type": "execute_result"
    }
   ],
   "source": [
    "situacao = [\"Aprovado\" if media >= 6 else \"Reprovado\" for media in medias]\n",
    "situacao"
   ]
  },
  {
   "cell_type": "code",
   "execution_count": 117,
   "metadata": {},
   "outputs": [
    {
     "data": {
      "text/plain": [
       "[[('João', 'J720'),\n",
       "  ('Maria', 'M205'),\n",
       "  ('José', 'J371'),\n",
       "  ('Cláudia', 'C546'),\n",
       "  ('Ana', 'A347')],\n",
       " [[8.0, 9.0, 10.0],\n",
       "  [9.0, 7.0, 6.0],\n",
       "  [3.4, 7.0, 7.0],\n",
       "  [5.5, 6.6, 8.0],\n",
       "  [6.0, 10.0, 9.5]],\n",
       " [9.0, 7.3, 5.8, 6.7, 8.5]]"
      ]
     },
     "execution_count": 117,
     "metadata": {},
     "output_type": "execute_result"
    }
   ],
   "source": [
    "cadastro = [x for x in [nomes, notas, medias]]\n",
    "cadastro"
   ]
  },
  {
   "cell_type": "markdown",
   "metadata": {},
   "source": [
    "verificar a situacao, ou seja, se cada estudante foi aprovado(a) ou reprovado(a)."
   ]
  },
  {
   "cell_type": "code",
   "execution_count": 118,
   "metadata": {},
   "outputs": [
    {
     "data": {
      "text/plain": [
       "[[('João', 'J720'),\n",
       "  ('Maria', 'M205'),\n",
       "  ('José', 'J371'),\n",
       "  ('Cláudia', 'C546'),\n",
       "  ('Ana', 'A347')],\n",
       " [[8.0, 9.0, 10.0],\n",
       "  [9.0, 7.0, 6.0],\n",
       "  [3.4, 7.0, 7.0],\n",
       "  [5.5, 6.6, 8.0],\n",
       "  [6.0, 10.0, 9.5]],\n",
       " [9.0, 7.3, 5.8, 6.7, 8.5],\n",
       " ['Aprovado', 'Aprovado', 'Reprovado', 'Aprovado', 'Aprovado']]"
      ]
     },
     "execution_count": 118,
     "metadata": {},
     "output_type": "execute_result"
    }
   ],
   "source": [
    "cadastro = [x for x in [nomes, notas, medias, situacao]]\n",
    "cadastro"
   ]
  },
  {
   "cell_type": "code",
   "execution_count": 119,
   "metadata": {},
   "outputs": [
    {
     "data": {
      "text/plain": [
       "[[('João', 'J720'),\n",
       "  ('Maria', 'M205'),\n",
       "  ('José', 'J371'),\n",
       "  ('Cláudia', 'C546'),\n",
       "  ('Ana', 'A347')],\n",
       " [[8.0, 9.0, 10.0],\n",
       "  [9.0, 7.0, 6.0],\n",
       "  [3.4, 7.0, 7.0],\n",
       "  [5.5, 6.6, 8.0],\n",
       "  [6.0, 10.0, 9.5]],\n",
       " [9.0, 7.3, 5.8, 6.7, 8.5],\n",
       " ['Aprovado', 'Aprovado', 'Reprovado', 'Aprovado', 'Aprovado']]"
      ]
     },
     "execution_count": 119,
     "metadata": {},
     "output_type": "execute_result"
    }
   ],
   "source": [
    "lista_completa = [nomes, notas, medias, situacao]\n",
    "lista_completa"
   ]
  },
  {
   "cell_type": "markdown",
   "metadata": {},
   "source": [
    "### 03.07 Dict comprehension"
   ]
  },
  {
   "cell_type": "markdown",
   "metadata": {},
   "source": [
    "forma concisa e simples de construir dicionários a partir do Dict Comprehension (Abrangência de dicionários)\n",
    "\n",
    "utilizaremos laços, condicionais e expressões para construir dicionários a partir do formato de uma única linha, usando essas expressões.\n",
    "\n",
    "[PPP 274 - Dict Comprehension](https://peps.python.org/pep-0274/)\n",
    "\n",
    "O formato padrão do Dict Comprehension é:\n",
    "\n",
    "```\n",
    "{chave: valor for item in lista}\n",
    "```\n"
   ]
  },
  {
   "cell_type": "markdown",
   "metadata": {},
   "source": [
    "<font color=purple>**Exemplo:**</font>  a nossa demanda consiste em gerar um dicionário a partir da lista de listas que criamos na Situação 10 para passá-la à pessoa responsável por construir as tabelas, possibilitando a análise dos dados.\n",
    "\n",
    "  - As chaves do nosso dicionário serão as colunas identificando o tipo de dado.\n",
    "\n",
    "  - Os valores serão as listas com os dados correspondentes àquela chave.\n",
    "\n",
    "  <font color=orange>**Obserrvação:**</font> Isso é muito comum na ciência de dados, inclusive quando trabalhamos com estruturas como dataframes, uma forma de apresentação do dado com tabelas. Aqui, não aprenderemos todo esse ferramental, mas entenderemos um pouco de como funciona a construção desse tipo de estrutura.\n",
    "\n",
    "```\n",
    "formato: {chave: valor for item in lista}\n",
    "```"
   ]
  },
  {
   "cell_type": "code",
   "execution_count": 120,
   "metadata": {},
   "outputs": [],
   "source": [
    "lista_completa = [[('João', 'J720'), ('Maria', 'M205'), ('José', 'J371'), ('Cláudia', 'C546'), ('Ana', 'A347')],\n",
    "                  [[8.0, 9.0, 10.0], [9.0, 7.0, 6.0], [3.4, 7.0, 7.0], [5.5, 6.6, 8.0], [6.0, 10.0, 9.5]],\n",
    "                  [9.0, 7.3, 5.8, 6.7, 8.5],\n",
    "                  ['Aprovado', 'Aprovado', 'Reprovado', 'Aprovado', 'Aprovado']]"
   ]
  },
  {
   "cell_type": "code",
   "execution_count": 122,
   "metadata": {},
   "outputs": [
    {
     "data": {
      "text/plain": [
       "{'Notas': [[8.0, 9.0, 10.0],\n",
       "  [9.0, 7.0, 6.0],\n",
       "  [3.4, 7.0, 7.0],\n",
       "  [5.5, 6.6, 8.0],\n",
       "  [6.0, 10.0, 9.5]],\n",
       " 'Media Final': [9.0, 7.3, 5.8, 6.7, 8.5],\n",
       " 'Situação': ['Aprovado', 'Aprovado', 'Reprovado', 'Aprovado', 'Aprovado']}"
      ]
     },
     "execution_count": 122,
     "metadata": {},
     "output_type": "execute_result"
    }
   ],
   "source": [
    "coluna = [\"Notas\", \"Media Final\", \"Situação\"]\n",
    "\n",
    "cadastro  = {coluna[i]: lista_completa[i+1] for i in range(len(coluna))}\n",
    "cadastro"
   ]
  },
  {
   "cell_type": "code",
   "execution_count": 123,
   "metadata": {},
   "outputs": [
    {
     "data": {
      "text/plain": [
       "{'Notas': [[8.0, 9.0, 10.0],\n",
       "  [9.0, 7.0, 6.0],\n",
       "  [3.4, 7.0, 7.0],\n",
       "  [5.5, 6.6, 8.0],\n",
       "  [6.0, 10.0, 9.5]],\n",
       " 'Media Final': [9.0, 7.3, 5.8, 6.7, 8.5],\n",
       " 'Situação': ['Aprovado', 'Aprovado', 'Reprovado', 'Aprovado', 'Aprovado'],\n",
       " 'Estudante': ['João', 'Maria', 'José', 'Cláudia', 'Ana']}"
      ]
     },
     "execution_count": 123,
     "metadata": {},
     "output_type": "execute_result"
    }
   ],
   "source": [
    "cadastro[\"Estudante\"] = [lista_completa[0][i][0] for i in range(len(lista_completa[0]))]\n",
    "cadastro"
   ]
  },
  {
   "cell_type": "markdown",
   "metadata": {},
   "source": [
    "## <font color=blue>**04. Lidando com exceções**</font>"
   ]
  },
  {
   "cell_type": "markdown",
   "metadata": {},
   "source": [
    "### 04.01 tipos de exceções"
   ]
  },
  {
   "attachments": {
    "image.png": {
     "image/png": "[encoded data removed]"
    }
   },
   "cell_type": "markdown",
   "metadata": {},
   "source": [
    "No Python existem basicamente duas formas distintas de erros: os de sintaxe e as exceções. As exceções são uma forma de lidar com erros e situações inesperadas no código, garantindo um fluxo de execução mais controlado.\n",
    "\n",
    "Como uma pessoa cientista de dados, você precisará ter atenção a situações como esta para evitar bugs ou problemas em seus códigos e análises que possam afetar a experiência tanto da pessoa usuária quanto a eficiência da sua análise.\n",
    "\n",
    "Como aparece uma exceção no Python:\n",
    "Uma exceção aparece em nossa saída, como podemos notar na imagem abaixo:\n",
    "\n",
    "![image.png](attachment:image.png)\n",
    "\n",
    "Temos o tipo da exceção, seguido dos rastros que chamaram a exceção até a linha exata que lançou a exceção lista[4]. Logo abaixo, temos novamente o tipo da exceção e uma breve descrição sobre ela. Vamos agora observar alguns dos tipos mais comuns de exceções que podem ser lançadas no Python.\n",
    "\n",
    "Tipos de Exceções\n",
    "\n",
    "SyntaxError\n",
    "Ocorre quando é detectado pelo parser (analisador) um erro na descrição do código. Normalmente uma seta aponta para a parte do código que gerou o erro, como uma espécie de dica onde o erro possa ter ocorrido."
   ]
  },
  {
   "cell_type": "code",
   "execution_count": 124,
   "metadata": {},
   "outputs": [
    {
     "ename": "SyntaxError",
     "evalue": "incomplete input (1225550915.py, line 1)",
     "output_type": "error",
     "traceback": [
      "\u001b[0;36m  Cell \u001b[0;32mIn[124], line 1\u001b[0;36m\u001b[0m\n\u001b[0;31m    print(10 / 2\u001b[0m\n\u001b[0m                ^\u001b[0m\n\u001b[0;31mSyntaxError\u001b[0m\u001b[0;31m:\u001b[0m incomplete input\n"
     ]
    }
   ],
   "source": [
    "print(10 / 2"
   ]
  },
  {
   "cell_type": "markdown",
   "metadata": {},
   "source": [
    "Note que esquecemos de fechar o parênteses e por isso foi apresentado um erro de sintaxe, ou seja, de escrita de código.\n",
    "\n",
    "NameError\n",
    "Exceção lançada quando tentamos utilizar um nome de algum elemento que não está presente em nosso código."
   ]
  },
  {
   "cell_type": "code",
   "execution_count": 125,
   "metadata": {},
   "outputs": [
    {
     "ename": "NameError",
     "evalue": "name 'sqrt' is not defined",
     "output_type": "error",
     "traceback": [
      "\u001b[0;31m---------------------------------------------------------------------------\u001b[0m",
      "\u001b[0;31mNameError\u001b[0m                                 Traceback (most recent call last)",
      "Cell \u001b[0;32mIn[125], line 1\u001b[0m\n\u001b[0;32m----> 1\u001b[0m raiz \u001b[38;5;241m=\u001b[39m \u001b[43msqrt\u001b[49m(\u001b[38;5;241m100\u001b[39m)\n",
      "\u001b[0;31mNameError\u001b[0m: name 'sqrt' is not defined"
     ]
    }
   ],
   "source": [
    "raiz = sqrt(100)"
   ]
  },
  {
   "cell_type": "markdown",
   "metadata": {},
   "source": [
    "Neste caso, o interpretador não consegue aplicar o método da raiz quadrada por não ter sido importado junto a biblioteca math.\n",
    "\n",
    "IndexError\n",
    "Exceção lançada quando tentamos indexar alguma estrutura de dados como lista, tupla ou até string além de seus limites."
   ]
  },
  {
   "cell_type": "code",
   "execution_count": 126,
   "metadata": {},
   "outputs": [
    {
     "ename": "IndexError",
     "evalue": "list index out of range",
     "output_type": "error",
     "traceback": [
      "\u001b[0;31m---------------------------------------------------------------------------\u001b[0m",
      "\u001b[0;31mIndexError\u001b[0m                                Traceback (most recent call last)",
      "Cell \u001b[0;32mIn[126], line 2\u001b[0m\n\u001b[1;32m      1\u001b[0m lista \u001b[38;5;241m=\u001b[39m [\u001b[38;5;241m1\u001b[39m, \u001b[38;5;241m2\u001b[39m, \u001b[38;5;241m3\u001b[39m]\n\u001b[0;32m----> 2\u001b[0m \u001b[43mlista\u001b[49m\u001b[43m[\u001b[49m\u001b[38;5;241;43m4\u001b[39;49m\u001b[43m]\u001b[49m\n",
      "\u001b[0;31mIndexError\u001b[0m: list index out of range"
     ]
    }
   ],
   "source": [
    "lista = [1, 2, 3]\n",
    "lista[4]"
   ]
  },
  {
   "cell_type": "markdown",
   "metadata": {},
   "source": [
    "Para esta situação, temos apenas 3 elementos na lista e tentamos ler o elemento da posição 4, que não existe. Recebendo a mensagem de que o index está fora da faixa.\n",
    "\n",
    "TypeError\n",
    "Exceção lançada quando um operador ou função são aplicados a um objeto cujo tipo é inapropriado."
   ]
  },
  {
   "cell_type": "code",
   "execution_count": 127,
   "metadata": {},
   "outputs": [
    {
     "ename": "TypeError",
     "evalue": "can only concatenate str (not \"int\") to str",
     "output_type": "error",
     "traceback": [
      "\u001b[0;31m---------------------------------------------------------------------------\u001b[0m",
      "\u001b[0;31mTypeError\u001b[0m                                 Traceback (most recent call last)",
      "Cell \u001b[0;32mIn[127], line 1\u001b[0m\n\u001b[0;32m----> 1\u001b[0m \u001b[38;5;124;43m\"\u001b[39;49m\u001b[38;5;124;43m1\u001b[39;49m\u001b[38;5;124;43m\"\u001b[39;49m\u001b[43m \u001b[49m\u001b[38;5;241;43m+\u001b[39;49m\u001b[43m \u001b[49m\u001b[38;5;241;43m1\u001b[39;49m\n",
      "\u001b[0;31mTypeError\u001b[0m: can only concatenate str (not \"int\") to str"
     ]
    }
   ],
   "source": [
    "\"1\" + 1"
   ]
  },
  {
   "cell_type": "markdown",
   "metadata": {},
   "source": [
    "Note que tentamos “somar” uma string com um número inteiro e isso gerou uma exceção em nosso código. Isso ocorreu por 2 razões: o operador de soma foi considerado de concatenação por iniciarmos utilizando uma string (nesse caso, o sinal de adição serve para concatenar strings) e um valor do tipo inteiro não consegue ser concatenado nesse tipo de operação.\n",
    "\n",
    "KeyError\n",
    "Exceção lançada quando tentamos acessar uma chave que não está no dicionário presente em nosso código.\n"
   ]
  },
  {
   "cell_type": "code",
   "execution_count": 128,
   "metadata": {},
   "outputs": [
    {
     "ename": "KeyError",
     "evalue": "'Amazonas'",
     "output_type": "error",
     "traceback": [
      "\u001b[0;31m---------------------------------------------------------------------------\u001b[0m",
      "\u001b[0;31mKeyError\u001b[0m                                  Traceback (most recent call last)",
      "Cell \u001b[0;32mIn[128], line 2\u001b[0m\n\u001b[1;32m      1\u001b[0m estados \u001b[38;5;241m=\u001b[39m {\u001b[38;5;124m'\u001b[39m\u001b[38;5;124mBahia\u001b[39m\u001b[38;5;124m'\u001b[39m: \u001b[38;5;241m1\u001b[39m, \u001b[38;5;124m'\u001b[39m\u001b[38;5;124mSão Paulo\u001b[39m\u001b[38;5;124m'\u001b[39m: \u001b[38;5;241m2\u001b[39m, \u001b[38;5;124m'\u001b[39m\u001b[38;5;124mGoiás\u001b[39m\u001b[38;5;124m'\u001b[39m: \u001b[38;5;241m3\u001b[39m}\n\u001b[0;32m----> 2\u001b[0m \u001b[43mestados\u001b[49m\u001b[43m[\u001b[49m\u001b[38;5;124;43m\"\u001b[39;49m\u001b[38;5;124;43mAmazonas\u001b[39;49m\u001b[38;5;124;43m\"\u001b[39;49m\u001b[43m]\u001b[49m\n",
      "\u001b[0;31mKeyError\u001b[0m: 'Amazonas'"
     ]
    }
   ],
   "source": [
    "estados = {'Bahia': 1, 'São Paulo': 2, 'Goiás': 3}\n",
    "estados[\"Amazonas\"]"
   ]
  },
  {
   "cell_type": "markdown",
   "metadata": {},
   "source": [
    "Tentamos acessar os dados do Estado Amazonas que não está presente no dicionário, lançando assim a exceção.\n",
    "\n",
    "Warning\n",
    "Exceção lançada em situações que precisamos alertar à pessoa usuária sobre algumas condições do código. Essas condições não necessariamente interrompem a execução do programa, mas podem lançar avisos sobre uso de módulos obsoletos, ou que possam ser depreciados em atualizações futuras ou também para alterações que podem reverberar sobre alguma parte do código.\n",
    "\n",
    "Lembrando que, no caso dos Warnings eles podem ser ignorados ou tratados como exceções."
   ]
  },
  {
   "cell_type": "code",
   "execution_count": 129,
   "metadata": {},
   "outputs": [
    {
     "name": "stderr",
     "output_type": "stream",
     "text": [
      "/tmp/ipykernel_15239/2109087288.py:4: RuntimeWarning: invalid value encountered in divide\n",
      "  a / a  # apresenta um warning\n"
     ]
    },
    {
     "data": {
      "text/plain": [
       "array([nan,  1.,  1.,  1.,  1.])"
      ]
     },
     "execution_count": 129,
     "metadata": {},
     "output_type": "execute_result"
    }
   ],
   "source": [
    "import numpy as np\n",
    "\n",
    "a = np.arange(5)\n",
    "a / a  # apresenta um warning"
   ]
  },
  {
   "cell_type": "markdown",
   "metadata": {},
   "source": [
    "Tentamos fazer a divisão de zero por zero. Em um array Numpy, que é essa estrutura na saída do console, esse resultado gera um valor nan (Not a Number). Ou seja, você consegue seguir a execução do programa, mas é provável que precise tratar os dados para poder utilizar esse array em alguma operação mais a frente."
   ]
  },
  {
   "cell_type": "markdown",
   "metadata": {},
   "source": [
    "### 04.02 Tratando exceções"
   ]
  },
  {
   "cell_type": "markdown",
   "metadata": {},
   "source": [
    "Try...Except\n",
    "Nela, temos dois tipos de cláusulas em que try representa o código padrão. Caso não ocorra nenhuma exceção, ele será executado por completo e o programa seguirá.\n",
    "\n",
    "Se uma exceção for lançada, quebramos a execução de try e continuamos com o que precisa ser executado em except, que seria a cláusula de exceção. Ou seja, a cláusula except só será acionada se uma exceção for lançada na cláusula try.\n",
    "\n",
    "Esta exceção não precisa necessariamente ser declarada, então podemos apenas incluir except e as instruções de código. Caso optemos por declarar o nome da exceção, o passamos seguido d o apelido e."
   ]
  },
  {
   "cell_type": "code",
   "execution_count": null,
   "metadata": {},
   "outputs": [],
   "source": [
    "except <nome_da_excecao as e>:"
   ]
  },
  {
   "cell_type": "markdown",
   "metadata": {},
   "source": [
    "<font color=purple>**Exemplo:**</font>Caso o(a) estudante não esteja matriculado(a) na turma, devemos tratar a exceção para aparecer a mensagem \"Estudante não matriculado(a) na turma\". Vamos trabalhar nesse exemplo com a exceção Key Error que interromperá o processo desse pedaço do código. "
   ]
  },
  {
   "cell_type": "code",
   "execution_count": 131,
   "metadata": {},
   "outputs": [],
   "source": [
    "notas = {'João': [8.0, 9.0, 10.0], 'Maria': [9.0, 7.0, 6.0], 'José': [3.4, 7.0, 8.0],'Cláudia': [5.5, 6.6, 8.0], 'Ana': [6.0, 10.0, 9.5], 'Joaquim': [5.5, 7.5, 9.0], 'Júlia': [6.0, 8.0, 7.0], 'Pedro': [3.0, 4.0, 6.0]}"
   ]
  },
  {
   "cell_type": "code",
   "execution_count": 132,
   "metadata": {},
   "outputs": [
    {
     "ename": "KeyError",
     "evalue": "'Afonso'",
     "output_type": "error",
     "traceback": [
      "\u001b[0;31m---------------------------------------------------------------------------\u001b[0m",
      "\u001b[0;31mKeyError\u001b[0m                                  Traceback (most recent call last)",
      "Cell \u001b[0;32mIn[132], line 2\u001b[0m\n\u001b[1;32m      1\u001b[0m nome \u001b[38;5;241m=\u001b[39m \u001b[38;5;28minput\u001b[39m(\u001b[38;5;124m\"\u001b[39m\u001b[38;5;124mDigite o nome do(a) estudante: \u001b[39m\u001b[38;5;124m\"\u001b[39m)\n\u001b[0;32m----> 2\u001b[0m resultado \u001b[38;5;241m=\u001b[39m \u001b[43mnotas\u001b[49m\u001b[43m[\u001b[49m\u001b[43mnome\u001b[49m\u001b[43m]\u001b[49m\n\u001b[1;32m      3\u001b[0m resultado\n",
      "\u001b[0;31mKeyError\u001b[0m: 'Afonso'"
     ]
    }
   ],
   "source": [
    "nome = input(\"Digite o nome do(a) estudante: \")\n",
    "resultado = notas[nome]\n",
    "resultado"
   ]
  },
  {
   "cell_type": "code",
   "execution_count": 133,
   "metadata": {},
   "outputs": [
    {
     "name": "stdout",
     "output_type": "stream",
     "text": [
      "Estudante não matriculado(a) na turma\n"
     ]
    }
   ],
   "source": [
    "try:\n",
    "    nome = input(\"Digite o nome do(a) estudante: \")\n",
    "    resultado = notas[nome]\n",
    "except KeyError:\n",
    "    print(\"Estudante não matriculado(a) na turma\")"
   ]
  },
  {
   "cell_type": "markdown",
   "metadata": {},
   "source": [
    "Else\n",
    "O else, semelhante à if...else, pega o caso contrário. Ou seja, se não tiver uma exceção, seguimos o fluxo do try e ao concluí-lo com sucesso saltamos para o else."
   ]
  },
  {
   "cell_type": "markdown",
   "metadata": {},
   "source": [
    "<font color=purple>**Exemplo:**</font>Caso o(a) estudante não esteja matriculado(a) na classe devemos tratar a exceção para aparecer a mensagem \"Estudante não matriculado(a) na turma\", e se a exceção não for lançada devemos exibir a lista com as notas do(a) estudante. Vamos trabalhar nesse exemplo com a exceção Key Error que interromperá o processo desse pedaço do código. Vamos testar esse tratamento."
   ]
  },
  {
   "cell_type": "code",
   "execution_count": 135,
   "metadata": {},
   "outputs": [
    {
     "name": "stdout",
     "output_type": "stream",
     "text": [
      "[5.5, 7.5, 9.0]\n"
     ]
    }
   ],
   "source": [
    "try:\n",
    "    nome = input(\"Digite o nome do(a) estudante: \")\n",
    "    resultado = notas[nome]\n",
    "except KeyError:\n",
    "    print(\"Estudante não matriculado(a) na turma\")\n",
    "else:\n",
    "    print(resultado)"
   ]
  },
  {
   "cell_type": "markdown",
   "metadata": {},
   "source": [
    "### 04.03 Cláusula finally"
   ]
  },
  {
   "cell_type": "markdown",
   "metadata": {},
   "source": [
    "O try corresponde ao fluxo normal, except ao fluxo de exceção, e else para o caso em que a exceção não for lançada. O finally, por sua vez, funciona para os casos em que qualquer uma das duas situações ocorra. Ou seja, tendo ou não exceção, a cláusula finally será executada.\n",
    "\n",
    "Ela é usada, geralmente, em situações que retornem uma mensagem de finalização do programa ou que, independente do problema ocorrido, ainda possamos trabalhar com o código."
   ]
  },
  {
   "cell_type": "markdown",
   "metadata": {},
   "source": [
    "<font color=purple>**Eemplo**</font> Caso o(a) estudante não esteja matriculado(a) na classe devemos tratar a exceção para aparecer a mensagem \"Estudante não matriculado(a) na turma\" e se a exceção não for lançada devemos exibir a lista com as notas do(a) estudante. Um texto avisando que \"A consulta foi encerrada!\" deve ser exibido com ou sem a exceção ser lançada. Vamos trabalhar nesse exemplo com a exceção Key Error que interromperá o processo desse pedaço do codigo."
   ]
  },
  {
   "cell_type": "code",
   "execution_count": 137,
   "metadata": {},
   "outputs": [],
   "source": [
    "notas = {'João': [8.0, 9.0, 10.0], 'Maria': [9.0, 7.0, 6.0], 'José': [3.4, 7.0, 8.0],'Cláudia': [5.5, 6.6, 8.0], 'Ana': [6.0, 10.0, 9.5], 'Joaquim': [5.5, 7.5, 9.0], 'Júlia': [6.0, 8.0, 7.0], 'Pedro': [3.0, 4.0, 6.0]}"
   ]
  },
  {
   "cell_type": "code",
   "execution_count": 138,
   "metadata": {},
   "outputs": [
    {
     "name": "stdout",
     "output_type": "stream",
     "text": [
      "[3.4, 7.0, 8.0]\n",
      "A consulta foi encerrada!\n"
     ]
    }
   ],
   "source": [
    "try:\n",
    "    nome = input(\"Digite o nome do(a) estudante: \")\n",
    "    resultado = notas[nome]\n",
    "except KeyError:\n",
    "    print(\"Estudante não matriculado(a) na turma\")\n",
    "else:\n",
    "    print(resultado)\n",
    "finally:\n",
    "    print(\"A consulta foi encerrada!\")"
   ]
  },
  {
   "cell_type": "markdown",
   "metadata": {},
   "source": [
    "### 04.04 Raise"
   ]
  },
  {
   "cell_type": "code",
   "execution_count": null,
   "metadata": {},
   "outputs": [],
   "source": [
    "A estruturação é a seguinte:\n",
    "\n",
    "raise ValueError(\"A lista de notas deve possuir dez elementos\")"
   ]
  },
  {
   "cell_type": "markdown",
   "metadata": {},
   "source": [
    " Você criou uma função para calcular a média de um estudante em uma dada matéria passando em uma lista as notas deste estudante. Você pretende tratar 2 situações:\n",
    "\n",
    "- Se a lista possuir um valor não numérico o cálculo de média não serà executado e uma mensagem de \"Não foi possível calcular a média do(a) estudante. Só são aceitos valores numéricos!\" será exibida.\n",
    "- Caso a lista tenha mais de 4 notas, será lançada uma exceção do tipo ValueError informando que \"A lista não pode possuir mais de 4 notas.\"\n",
    "Um texto avisando que \"A consulta foi encerrada!\" deve ser exibido com ou sem a exceção ser lançada."
   ]
  },
  {
   "cell_type": "code",
   "execution_count": 142,
   "metadata": {},
   "outputs": [
    {
     "name": "stdout",
     "output_type": "stream",
     "text": [
      "Não foi possível calcular a média do(a) estudante. Só são aceitos valores numéricos!\n",
      "A consulta foi encerrada!\n"
     ]
    }
   ],
   "source": [
    "try:\n",
    "    notas = [6, 7, 8, \"9\"]\n",
    "    resultado = media(notas)\n",
    "except TypeError:\n",
    "    print(\"Não foi possível calcular a média do(a) estudante. Só são aceitos valores numéricos!\")\n",
    "except ValueError as e:\n",
    "    print(e)\n",
    "else:\n",
    "    print(resultado)\n",
    "finally:\n",
    "    print(\"A consulta foi encerrada!\")"
   ]
  },
  {
   "cell_type": "code",
   "execution_count": null,
   "metadata": {},
   "outputs": [],
   "source": []
  }
 ],
 "metadata": {
  "kernelspec": {
   "display_name": "venv",
   "language": "python",
   "name": "python3"
  },
  "language_info": {
   "codemirror_mode": {
    "name": "ipython",
    "version": 3
   },
   "file_extension": ".py",
   "mimetype": "text/x-python",
   "name": "python",
   "nbconvert_exporter": "python",
   "pygments_lexer": "ipython3",
   "version": "3.10.12"
  }
 },
 "nbformat": 4,
 "nbformat_minor": 2
}
